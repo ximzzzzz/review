{
 "cells": [
  {
   "cell_type": "code",
   "execution_count": null,
   "metadata": {},
   "outputs": [],
   "source": [
    "# RECURRUENT INPUT값을 다음의 INPUT값으로 활용하는것(SEQUENTIAL 한 데이터 이용할때)\n",
    "# A에는 총 3개의 W가 있따. INPUT때 곱하는 W(xh), H구할때 곱하는 W(hh), 자신한테 RECURSIVE 되는 W(hy).\n",
    "# 바닐라, 가장 기본이되는것(one to one: 하나를 입력해서 하나르 뱉는), one to many(sequence), many to one..\n",
    "\n",
    "#colah'blog 가 잘설명해놓음 rnnm, lstm http://colah.github.io/posts/2015-08-Understanding-LSTMs/\n",
    "\n",
    "#dnn 은 입력값하나당 하나의 아웃풋만 있기 떄문에 'hello'의 예측값을 맞출때 학습하지 못함\n",
    "# rnn 은 hel, e, hell 뭘 입력해도 모두 잘 예측\n",
    "# 구글 자동완성\n",
    "\n",
    "#tesorflowKR에서 코드보면서 연습하는것도 개꿀임 TensorFlowKR/awesome_tensorflow_implementations\n",
    "\n",
    "#waston tone analizer 를 통해 sentimental analysis 가능, 사진표정분석도 가능 "
   ]
  },
  {
   "cell_type": "code",
   "execution_count": null,
   "metadata": {},
   "outputs": [],
   "source": [
    "# 보통 rnn을 그냥 쓰기보다는 LSTM과 GRU를 쓴다(게이트연산을 추가한다)\n",
    "# 이전에 들어온값에 가중치를 줄여라, 지금 입력값에 가중치를 올려라(WEIGHT를 조정가능하기 때문에 더 선호)\n"
   ]
  },
  {
   "cell_type": "code",
   "execution_count": 1,
   "metadata": {
    "scrolled": true
   },
   "outputs": [
    {
     "name": "stderr",
     "output_type": "stream",
     "text": [
      "C:\\ProgramData\\Anaconda3\\lib\\site-packages\\h5py\\__init__.py:36: FutureWarning: Conversion of the second argument of issubdtype from `float` to `np.floating` is deprecated. In future, it will be treated as `np.float64 == np.dtype(float).type`.\n",
      "  from ._conv import register_converters as _register_converters\n"
     ]
    }
   ],
   "source": [
    "import numpy as np\n",
    "import tensorflow as tf"
   ]
  },
  {
   "cell_type": "code",
   "execution_count": 2,
   "metadata": {},
   "outputs": [],
   "source": [
    "# hi hello \n",
    "# X : hihell , Y : ihello\n",
    "idx2char = ['h','i', 'e', 'l', 'o']\n",
    "x_data = [[0,1,0,2,3,3] ]\n",
    "x_one_hot = [[\n",
    "                [1,0,0,0,0],\n",
    "                [0,1,0,0,0],\n",
    "                [1,0,0,0,0],\n",
    "                [0,0,1,0,0],\n",
    "                [0,0,0,1,0],\n",
    "                [0,0,0,1,0]\n",
    "]]\n",
    "y_data = [[1,0,2,3,3,4]]"
   ]
  },
  {
   "cell_type": "code",
   "execution_count": 8,
   "metadata": {},
   "outputs": [
    {
     "data": {
      "text/plain": [
       "[[[1, 0, 0, 0, 0],\n",
       "  [0, 1, 0, 0, 0],\n",
       "  [1, 0, 0, 0, 0],\n",
       "  [0, 0, 1, 0, 0],\n",
       "  [0, 0, 0, 1, 0],\n",
       "  [0, 0, 0, 1, 0]]]"
      ]
     },
     "execution_count": 8,
     "metadata": {},
     "output_type": "execute_result"
    }
   ],
   "source": [
    "x_one_hot"
   ]
  },
  {
   "cell_type": "code",
   "execution_count": 3,
   "metadata": {},
   "outputs": [],
   "source": [
    "# shape(batch_size, sequence_length, input_dim)\n",
    "num_classes = 5\n",
    "input_dim = 5 #input으로 들어가는 값의 dimension\n",
    "hidden_size = 5 #hidden node의 갯수\n",
    "batch_size = 1 #한번에 들어가는 input 갯수\n",
    "sequence_length = 6  #한번에 들어가는 sequence의 렝스 hihello(6개)\n",
    "learning_rate = 0.1"
   ]
  },
  {
   "cell_type": "code",
   "execution_count": 4,
   "metadata": {},
   "outputs": [],
   "source": [
    "X = tf.placeholder(tf.float32, shape = [None, sequence_length, input_dim])\n",
    "Y = tf.placeholder(tf.int32, shape = [None, sequence_length])\n",
    "\n",
    "# cell = tf.contrib.rnn.BasicRNNCell(num_units = hidden_size, state_is_tuple=True) #state 값을 튜플로 사용할거냐\n",
    "cell = tf.contrib.rnn.BasicLSTMCell(num_units = hidden_size, state_is_tuple=True) \n",
    "#tuple을 사용하면 consatant 처럼 변화하지 않기 때문에 사용함(list, dictionary는 변함)\n",
    "# cell = tf.contrib.rnn.BasicGRUCell(num_units = hidden_size, state_is_tuple=True) \n",
    "\n",
    "initial_state = cell.zero_state(batch_size, tf.float32) #다 0으로 채우는 함수, 어짜피 학습이되며 바뀜\n",
    "outputs, _states = tf.nn.dynamic_rnn(cell, X, initial_state=initial_state, dtype=tf.float32)\n",
    "\n",
    "X_for_fc = tf.reshape(outputs, [-1,hidden_size]) #flatten 시킴\n",
    "outputs = tf.contrib.layers.fully_connected(inputs = X_for_fc, num_outputs = num_classes, \n",
    "                                            activation_fn = None) \n",
    "#sequence loss를 계산하기위해 reshape를 다시해야함, 예측 후 다시 변환\n",
    "\n",
    "outputs = tf.reshape(outputs, [batch_size, sequence_length, num_classes])\n",
    "weights = tf.ones([batch_size, sequence_length])\n",
    "sequence_loss = tf.contrib.seq2seq.sequence_loss(logits = outputs, targets= Y, weights = weights )# weight를 통해시퀀스의 가중치를 정해주기\n",
    "\n",
    "loss = tf.reduce_mean(sequence_loss)\n",
    "train = tf.train.AdamOptimizer(learning_rate=learning_rate).minimize(loss)\n",
    "prediction = tf.argmax(outputs,axis=2)"
   ]
  },
  {
   "cell_type": "code",
   "execution_count": 5,
   "metadata": {},
   "outputs": [
    {
     "name": "stdout",
     "output_type": "stream",
     "text": [
      "Step: 0 Loss: 1.5841112 Prediction: [[3 3 3 3 3 3]]\n",
      "Prediction: llllll\n",
      "Step: 100 Loss: 0.0018113748 Prediction: [[1 0 2 3 3 4]]\n",
      "Prediction: ihello\n",
      "Step: 200 Loss: 0.00088647817 Prediction: [[1 0 2 3 3 4]]\n",
      "Prediction: ihello\n",
      "Step: 300 Loss: 0.0005425431 Prediction: [[1 0 2 3 3 4]]\n",
      "Prediction: ihello\n",
      "Step: 400 Loss: 0.00036939638 Prediction: [[1 0 2 3 3 4]]\n",
      "Prediction: ihello\n",
      "Step: 500 Loss: 0.00026893718 Prediction: [[1 0 2 3 3 4]]\n",
      "Prediction: ihello\n",
      "Step: 600 Loss: 0.0002050969 Prediction: [[1 0 2 3 3 4]]\n",
      "Prediction: ihello\n",
      "Step: 700 Loss: 0.0001617331 Prediction: [[1 0 2 3 3 4]]\n",
      "Prediction: ihello\n",
      "Step: 800 Loss: 0.00013082298 Prediction: [[1 0 2 3 3 4]]\n",
      "Prediction: ihello\n",
      "Step: 900 Loss: 0.000107977445 Prediction: [[1 0 2 3 3 4]]\n",
      "Prediction: ihello\n",
      "Step: 1000 Loss: 9.057475e-05 Prediction: [[1 0 2 3 3 4]]\n",
      "Prediction: ihello\n",
      "Step: 1100 Loss: 7.706559e-05 Prediction: [[1 0 2 3 3 4]]\n",
      "Prediction: ihello\n",
      "Step: 1200 Loss: 6.625811e-05 Prediction: [[1 0 2 3 3 4]]\n",
      "Prediction: ihello\n",
      "Step: 1300 Loss: 5.763588e-05 Prediction: [[1 0 2 3 3 4]]\n",
      "Prediction: ihello\n",
      "Step: 1400 Loss: 5.0503608e-05 Prediction: [[1 0 2 3 3 4]]\n",
      "Prediction: ihello\n",
      "Step: 1500 Loss: 4.462292e-05 Prediction: [[1 0 2 3 3 4]]\n",
      "Prediction: ihello\n",
      "Step: 1600 Loss: 3.9656094e-05 Prediction: [[1 0 2 3 3 4]]\n",
      "Prediction: ihello\n",
      "Step: 1700 Loss: 3.5444205e-05 Prediction: [[1 0 2 3 3 4]]\n",
      "Prediction: ihello\n",
      "Step: 1800 Loss: 3.184819e-05 Prediction: [[1 0 2 3 3 4]]\n",
      "Prediction: ihello\n",
      "Step: 1900 Loss: 2.876872e-05 Prediction: [[1 0 2 3 3 4]]\n",
      "Prediction: ihello\n",
      "Step: 2000 Loss: 2.6046855e-05 Prediction: [[1 0 2 3 3 4]]\n",
      "Prediction: ihello\n",
      "Step: 2100 Loss: 2.3742205e-05 Prediction: [[1 0 2 3 3 4]]\n",
      "Prediction: ihello\n",
      "Step: 2200 Loss: 2.1636228e-05 Prediction: [[1 0 2 3 3 4]]\n",
      "Prediction: ihello\n",
      "Step: 2300 Loss: 1.9768659e-05 Prediction: [[1 0 2 3 3 4]]\n",
      "Prediction: ihello\n",
      "Step: 2400 Loss: 1.8159366e-05 Prediction: [[1 0 2 3 3 4]]\n",
      "Prediction: ihello\n",
      "Step: 2500 Loss: 1.6728882e-05 Prediction: [[1 0 2 3 3 4]]\n",
      "Prediction: ihello\n",
      "Step: 2600 Loss: 1.5397736e-05 Prediction: [[1 0 2 3 3 4]]\n",
      "Prediction: ihello\n",
      "Step: 2700 Loss: 1.4265266e-05 Prediction: [[1 0 2 3 3 4]]\n",
      "Prediction: ihello\n",
      "Step: 2800 Loss: 1.3192398e-05 Prediction: [[1 0 2 3 3 4]]\n",
      "Prediction: ihello\n",
      "Step: 2900 Loss: 1.221887e-05 Prediction: [[1 0 2 3 3 4]]\n",
      "Prediction: ihello\n",
      "Step: 3000 Loss: 1.13446795e-05 Prediction: [[1 0 2 3 3 4]]\n",
      "Prediction: ihello\n",
      "Step: 3100 Loss: 1.0629434e-05 Prediction: [[1 0 2 3 3 4]]\n",
      "Prediction: ihello\n",
      "Step: 3200 Loss: 9.8744495e-06 Prediction: [[1 0 2 3 3 4]]\n",
      "Prediction: ihello\n",
      "Step: 3300 Loss: 9.159201e-06 Prediction: [[1 0 2 3 3 4]]\n",
      "Prediction: ihello\n",
      "Step: 3400 Loss: 8.56316e-06 Prediction: [[1 0 2 3 3 4]]\n",
      "Prediction: ihello\n",
      "Step: 3500 Loss: 8.046591e-06 Prediction: [[1 0 2 3 3 4]]\n",
      "Prediction: ihello\n",
      "Step: 3600 Loss: 7.510154e-06 Prediction: [[1 0 2 3 3 4]]\n",
      "Prediction: ihello\n",
      "Step: 3700 Loss: 7.013453e-06 Prediction: [[1 0 2 3 3 4]]\n",
      "Prediction: ihello\n",
      "Step: 3800 Loss: 6.596223e-06 Prediction: [[1 0 2 3 3 4]]\n",
      "Prediction: ihello\n",
      "Step: 3900 Loss: 6.21873e-06 Prediction: [[1 0 2 3 3 4]]\n",
      "Prediction: ihello\n"
     ]
    }
   ],
   "source": [
    "sess = tf.Session()\n",
    "sess.run(tf.global_variables_initializer())\n",
    "for step in range(4000):\n",
    "    l,_ = sess.run([loss,train], feed_dict={X:x_one_hot, Y:y_data})\n",
    "    result = sess.run(prediction, feed_dict={X:x_one_hot})\n",
    "    if step % 100 == 0:\n",
    "        print (\"Step:\",step,\"Loss:\",l,\"Prediction:\", result)\n",
    "        result_str = [idx2char[c] for c in np.squeeze(result)]\n",
    "        print (\"Prediction:\",\"\".join(result_str))\n"
   ]
  },
  {
   "cell_type": "code",
   "execution_count": null,
   "metadata": {},
   "outputs": [],
   "source": []
  }
 ],
 "metadata": {
  "kernelspec": {
   "display_name": "Python 3",
   "language": "python",
   "name": "python3"
  },
  "language_info": {
   "codemirror_mode": {
    "name": "ipython",
    "version": 3
   },
   "file_extension": ".py",
   "mimetype": "text/x-python",
   "name": "python",
   "nbconvert_exporter": "python",
   "pygments_lexer": "ipython3",
   "version": "3.6.5"
  }
 },
 "nbformat": 4,
 "nbformat_minor": 2
}
