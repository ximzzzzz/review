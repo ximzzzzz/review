{
 "cells": [
  {
   "cell_type": "code",
   "execution_count": 1,
   "metadata": {},
   "outputs": [
    {
     "name": "stderr",
     "output_type": "stream",
     "text": [
      "C:\\ProgramData\\Anaconda3\\lib\\site-packages\\h5py\\__init__.py:36: FutureWarning: Conversion of the second argument of issubdtype from `float` to `np.floating` is deprecated. In future, it will be treated as `np.float64 == np.dtype(float).type`.\n",
      "  from ._conv import register_converters as _register_converters\n"
     ]
    }
   ],
   "source": [
    "import numpy as np\n",
    "import tensorflow as tf\n",
    "import matplotlib.pyplot as plt"
   ]
  },
  {
   "cell_type": "code",
   "execution_count": 2,
   "metadata": {},
   "outputs": [],
   "source": [
    "data = np.loadtxt('c:/users/student/desktop/stock_daily.csv',delimiter=',',dtype=np.float32)"
   ]
  },
  {
   "cell_type": "code",
   "execution_count": 3,
   "metadata": {},
   "outputs": [],
   "source": [
    "def MinMaxScaler(data):\n",
    "    bunja = data - np.min(data,0) #axis=0 이 행임\n",
    "    bunmo = np.max(data,0) - np.min(data, 0)\n",
    "    return bunja/bunmo+1e-10"
   ]
  },
  {
   "cell_type": "code",
   "execution_count": 4,
   "metadata": {},
   "outputs": [],
   "source": [
    "import random"
   ]
  },
  {
   "cell_type": "code",
   "execution_count": 5,
   "metadata": {},
   "outputs": [],
   "source": [
    "# data = MinMaxScaler(data)"
   ]
  },
  {
   "cell_type": "code",
   "execution_count": 6,
   "metadata": {},
   "outputs": [],
   "source": [
    "# x_data = data\n",
    "# y_data = data[:,[-1]]"
   ]
  },
  {
   "cell_type": "code",
   "execution_count": 11,
   "metadata": {},
   "outputs": [
    {
     "ename": "SyntaxError",
     "evalue": "invalid syntax (<ipython-input-11-5775fd0f8747>, line 4)",
     "output_type": "error",
     "traceback": [
      "\u001b[1;36m  File \u001b[1;32m\"<ipython-input-11-5775fd0f8747>\"\u001b[1;36m, line \u001b[1;32m4\u001b[0m\n\u001b[1;33m    test_x = x_data[![idx]]\u001b[0m\n\u001b[1;37m                    ^\u001b[0m\n\u001b[1;31mSyntaxError\u001b[0m\u001b[1;31m:\u001b[0m invalid syntax\n"
     ]
    }
   ],
   "source": [
    "# idx = random.sample(range(len(data)), int(len(data)*0.8))\n",
    "# train_x = x_data[idx,:]\n",
    "# train_y = y_data[idx,:]\n",
    "# test_x = np.where(x_data)\n",
    "# test_y = y_data[-y_data[idx],:]"
   ]
  },
  {
   "cell_type": "code",
   "execution_count": 35,
   "metadata": {},
   "outputs": [],
   "source": [
    "# train_x = MinMaxScaler(train_x)\n",
    "# train_x = train_x[::-1] #열과 로우 거꾸로 뒤집기!"
   ]
  },
  {
   "cell_type": "code",
   "execution_count": 39,
   "metadata": {},
   "outputs": [
    {
     "data": {
      "text/plain": [
       "(585, 4)"
      ]
     },
     "execution_count": 39,
     "metadata": {},
     "output_type": "execute_result"
    }
   ],
   "source": [
    "train_x.shape"
   ]
  },
  {
   "cell_type": "code",
   "execution_count": 37,
   "metadata": {
    "scrolled": true
   },
   "outputs": [
    {
     "data": {
      "text/plain": [
       "array([[0.09019206, 0.11594636, 0.10839645, 0.14979833],\n",
       "       [0.08791915, 0.09516431, 0.09906515, 0.09108184],\n",
       "       [0.6537744 , 0.6561279 , 0.6741668 , 0.10814735],\n",
       "       ...,\n",
       "       [0.40724063, 0.40613645, 0.40605274, 0.15959488],\n",
       "       [0.7091425 , 0.71341586, 0.72716165, 0.10077978],\n",
       "       [0.839549  , 0.82897455, 0.82998216, 0.15705834]], dtype=float32)"
      ]
     },
     "execution_count": 37,
     "metadata": {},
     "output_type": "execute_result"
    }
   ],
   "source": [
    "seq_length = 7\n",
    "data_dim = 5\n",
    "hidden_dim = 10\n",
    "output_dim = 1\n",
    "learning_rate = 0.01\n",
    "\n",
    "\n",
    "xy = np.loadtxt('stock_daily.csv', delimiter=',')\n",
    "xy = xy[::-1] # 순서를 뒤집고\n",
    "xy = MinMaxScalar(xy) # 스케일을 맞추고\n",
    "x = xy\n",
    "y = xy[:,[-1]]\n",
    "dataX = []\n",
    "dataY = []\n",
    "for i in range(0, len(y)-seq_length):\n",
    "    _x = x[i:i+seq_length]\n",
    "    _y = y[i+seq_length]\n",
    "    dataX.append(_x)\n",
    "    dataY.append(_y)\n",
    "\n",
    "train_size = int(len(dataY)*0.7)\n",
    "test_size = len(dataY)- train_size\n",
    "trainX, testX = np.array(dataX[0:train_size]), np.array(dataX[train_size:len(dataX)])\n",
    "trainY, testY = np.array(dataY[0:train_size]), np.array(dataY[train_size:len(dataY)])"
   ]
  },
  {
   "cell_type": "code",
   "execution_count": null,
   "metadata": {},
   "outputs": [],
   "source": [
    "X = tf.placeholder(tf.float32, shape=[None, seq_length, data_dim])\n",
    "Y = tf.placeholder(tf.float32, shape=[None,1])\n",
    "cell = tf.contrib.rnn.BasicLSTMCell(num_units=hidden_dim, state_is_tuple=True, \n",
    "                                   activation=tf.tanh)\n",
    "outputs, _states = tf.nn.dynamic_rnn(cell,X, dtype=tf.float32)\n",
    "Y_pred = tf.contrib.layers.fully_connected(outputs[:,-1], output_dim, \n",
    "                                          activation_fn=None)\n",
    "loss = tf.reduce_mean(tf.reduce_sum(tf.square(Y_pred-Y)))\n",
    "optimizer = tf.train.AdamOptimizer(learning_rate=learning_rate)\n",
    "train = optimizer.minimize(loss)"
   ]
  },
  {
   "cell_type": "code",
   "execution_count": null,
   "metadata": {},
   "outputs": [],
   "source": [
    "sess = tf.Session()\n",
    "sess.run(tf.global_variables_initializer())\n",
    "for step in range(2000):\n",
    "    l,_ = sess.run([loss, train], feed_dict={X:dataX, Y:dataY})\n",
    "    if step % 100 == 0:\n",
    "        print (\"step:\",step,\"loss:\",l)\n"
   ]
  },
  {
   "cell_type": "code",
   "execution_count": 12,
   "metadata": {},
   "outputs": [],
   "source": [
    "#rmse\n",
    "\n",
    "target = tf.placeholder(tf.float32,[None,1])\n",
    "prediction = tf.placeholder(tf.float32,[None,1])\n",
    "rmse = tf.sqrt(tf.reduce_mean(tf.square(target-prediction)))"
   ]
  },
  {
   "cell_type": "code",
   "execution_count": null,
   "metadata": {},
   "outputs": [],
   "source": [
    "test_prediction = sess.run(Y_pred, feed_dict=[X:testX])\n",
    "print(\"rmse :\", sess.run(rmse, feed_dict=[target:testY, prediction:test_prediction]))"
   ]
  },
  {
   "cell_type": "code",
   "execution_count": null,
   "metadata": {},
   "outputs": [],
   "source": [
    "plt.plot(testY)\n",
    "plt.plot(test_prediction)"
   ]
  }
 ],
 "metadata": {
  "kernelspec": {
   "display_name": "Python 3",
   "language": "python",
   "name": "python3"
  },
  "language_info": {
   "codemirror_mode": {
    "name": "ipython",
    "version": 3
   },
   "file_extension": ".py",
   "mimetype": "text/x-python",
   "name": "python",
   "nbconvert_exporter": "python",
   "pygments_lexer": "ipython3",
   "version": "3.6.5"
  }
 },
 "nbformat": 4,
 "nbformat_minor": 2
}
