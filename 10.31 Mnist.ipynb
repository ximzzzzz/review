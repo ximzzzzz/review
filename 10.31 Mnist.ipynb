{
 "cells": [
  {
   "cell_type": "code",
   "execution_count": 1,
   "metadata": {},
   "outputs": [
    {
     "name": "stderr",
     "output_type": "stream",
     "text": [
      "C:\\ProgramData\\Anaconda3\\lib\\site-packages\\h5py\\__init__.py:36: FutureWarning: Conversion of the second argument of issubdtype from `float` to `np.floating` is deprecated. In future, it will be treated as `np.float64 == np.dtype(float).type`.\n",
      "  from ._conv import register_converters as _register_converters\n"
     ]
    }
   ],
   "source": [
    "import tensorflow as tf\n",
    "import numpy as np"
   ]
  },
  {
   "cell_type": "code",
   "execution_count": 4,
   "metadata": {},
   "outputs": [],
   "source": [
    "xy = np.array([[828.659973, 833.450012, 908100, 828.349976, 831.659973],\n",
    "              [823.02002, 828.070007, 1828100, 821.655029, 828.070007],\n",
    "              [819.929993, 824.400024, 1438100, 818.97998, 824.159973],\n",
    "              [816, 820.958984, 1008100, 815.48999, 819.23999],\n",
    "              [819.359985, 823, 1188100, 818.469971, 818.97998],\n",
    "              [819, 823, 1198100, 816, 820.450012],\n",
    "              [811.700012, 815.25, 1098100, 809.780029, 813.669983],\n",
    "              [809.51001, 816.659973, 1398100, 804.539978, 809.559998]])\n",
    "\n",
    "def MinMaxScaler(data):\n",
    "    bunja = data - np.min(data,0) #axis=0 이 행임\n",
    "    bunmo = np.max(data,0) - np.min(data, 0)\n",
    "    return bunja/bunmo+1e-10\n"
   ]
  },
  {
   "cell_type": "code",
   "execution_count": 8,
   "metadata": {},
   "outputs": [],
   "source": [
    "\n",
    "xy = MinMaxScaler(xy)\n",
    "x_data = xy[:, 0:-1]\n",
    "y_data = xy[:, [-1]]\n",
    "\n",
    "\n",
    "X = tf.placeholder(tf.float32, shape=[None, 4])\n",
    "Y = tf.placeholder(tf.float32, shape=[None, 1])\n",
    "\n",
    "W = tf.Variable(tf.random_normal([4,1]))\n",
    "b = tf.Variable(tf.random_normal([1]))\n",
    "\n",
    "hypothesis = tf.matmul(X,W)+b\n",
    "cost = tf.reduce_mean(tf.square(hypothesis-Y))\n",
    "optimizer = tf.train.GradientDescentOptimizer(learning_rate=0.1).minimize(cost)"
   ]
  },
  {
   "cell_type": "code",
   "execution_count": null,
   "metadata": {},
   "outputs": [],
   "source": []
  },
  {
   "cell_type": "code",
   "execution_count": null,
   "metadata": {},
   "outputs": [],
   "source": []
  },
  {
   "cell_type": "code",
   "execution_count": 9,
   "metadata": {},
   "outputs": [],
   "source": [
    "# MNIST 시작"
   ]
  },
  {
   "cell_type": "code",
   "execution_count": 10,
   "metadata": {},
   "outputs": [
    {
     "name": "stdout",
     "output_type": "stream",
     "text": [
      "WARNING:tensorflow:From <ipython-input-10-93d8da72a918>:2: read_data_sets (from tensorflow.contrib.learn.python.learn.datasets.mnist) is deprecated and will be removed in a future version.\n",
      "Instructions for updating:\n",
      "Please use alternatives such as official/mnist/dataset.py from tensorflow/models.\n",
      "WARNING:tensorflow:From C:\\ProgramData\\Anaconda3\\lib\\site-packages\\tensorflow\\contrib\\learn\\python\\learn\\datasets\\mnist.py:260: maybe_download (from tensorflow.contrib.learn.python.learn.datasets.base) is deprecated and will be removed in a future version.\n",
      "Instructions for updating:\n",
      "Please write your own downloading logic.\n",
      "WARNING:tensorflow:From C:\\ProgramData\\Anaconda3\\lib\\site-packages\\tensorflow\\contrib\\learn\\python\\learn\\datasets\\base.py:252: _internal_retry.<locals>.wrap.<locals>.wrapped_fn (from tensorflow.contrib.learn.python.learn.datasets.base) is deprecated and will be removed in a future version.\n",
      "Instructions for updating:\n",
      "Please use urllib or similar directly.\n",
      "Successfully downloaded train-images-idx3-ubyte.gz 9912422 bytes.\n",
      "WARNING:tensorflow:From C:\\ProgramData\\Anaconda3\\lib\\site-packages\\tensorflow\\contrib\\learn\\python\\learn\\datasets\\mnist.py:262: extract_images (from tensorflow.contrib.learn.python.learn.datasets.mnist) is deprecated and will be removed in a future version.\n",
      "Instructions for updating:\n",
      "Please use tf.data to implement this functionality.\n",
      "Extracting MNIST_data\\train-images-idx3-ubyte.gz\n",
      "Successfully downloaded train-labels-idx1-ubyte.gz 28881 bytes.\n",
      "WARNING:tensorflow:From C:\\ProgramData\\Anaconda3\\lib\\site-packages\\tensorflow\\contrib\\learn\\python\\learn\\datasets\\mnist.py:267: extract_labels (from tensorflow.contrib.learn.python.learn.datasets.mnist) is deprecated and will be removed in a future version.\n",
      "Instructions for updating:\n",
      "Please use tf.data to implement this functionality.\n",
      "Extracting MNIST_data\\train-labels-idx1-ubyte.gz\n",
      "WARNING:tensorflow:From C:\\ProgramData\\Anaconda3\\lib\\site-packages\\tensorflow\\contrib\\learn\\python\\learn\\datasets\\mnist.py:110: dense_to_one_hot (from tensorflow.contrib.learn.python.learn.datasets.mnist) is deprecated and will be removed in a future version.\n",
      "Instructions for updating:\n",
      "Please use tf.one_hot on tensors.\n",
      "Successfully downloaded t10k-images-idx3-ubyte.gz 1648877 bytes.\n",
      "Extracting MNIST_data\\t10k-images-idx3-ubyte.gz\n",
      "Successfully downloaded t10k-labels-idx1-ubyte.gz 4542 bytes.\n",
      "Extracting MNIST_data\\t10k-labels-idx1-ubyte.gz\n",
      "WARNING:tensorflow:From C:\\ProgramData\\Anaconda3\\lib\\site-packages\\tensorflow\\contrib\\learn\\python\\learn\\datasets\\mnist.py:290: DataSet.__init__ (from tensorflow.contrib.learn.python.learn.datasets.mnist) is deprecated and will be removed in a future version.\n",
      "Instructions for updating:\n",
      "Please use alternatives such as official/mnist/dataset.py from tensorflow/models.\n"
     ]
    }
   ],
   "source": [
    "from tensorflow.examples.tutorials.mnist import input_data\n",
    "mnist = input_data.read_data_sets('MNIST_data', one_hot=True)"
   ]
  },
  {
   "cell_type": "code",
   "execution_count": 15,
   "metadata": {},
   "outputs": [
    {
     "name": "stdout",
     "output_type": "stream",
     "text": [
      "[[0. 0. 0. ... 0. 0. 0.]\n",
      " [0. 0. 0. ... 0. 0. 0.]\n",
      " [0. 0. 0. ... 0. 0. 0.]\n",
      " ...\n",
      " [0. 0. 0. ... 0. 0. 0.]\n",
      " [0. 0. 0. ... 0. 0. 0.]\n",
      " [0. 0. 0. ... 0. 0. 0.]] [[0. 0. 0. ... 1. 0. 0.]\n",
      " [0. 0. 0. ... 0. 0. 0.]\n",
      " [0. 0. 0. ... 0. 0. 0.]\n",
      " ...\n",
      " [0. 0. 0. ... 0. 0. 0.]\n",
      " [0. 0. 0. ... 0. 0. 0.]\n",
      " [0. 0. 0. ... 0. 1. 0.]]\n",
      "(55000, 784)\n"
     ]
    }
   ],
   "source": [
    "print(mnist.train.images,mnist.train.labels)\n",
    "print(mnist.train.images.shape)"
   ]
  },
  {
   "cell_type": "code",
   "execution_count": 16,
   "metadata": {},
   "outputs": [],
   "source": [
    "train = mnist.train.images\n",
    "label = mnist.train.labels"
   ]
  },
  {
   "cell_type": "code",
   "execution_count": 29,
   "metadata": {},
   "outputs": [],
   "source": [
    "x_test = mnist.test.images\n",
    "y_test = mnist.test.labels"
   ]
  },
  {
   "cell_type": "code",
   "execution_count": 48,
   "metadata": {},
   "outputs": [],
   "source": [
    "X = tf.placeholder(tf.float32, shape=[None,784])\n",
    "Y = tf.placeholder(tf.float32, shape=[None, 10])\n",
    "\n",
    "W = tf.Variable(tf.random_normal([784,10]))\n",
    "b = tf.Variable(tf.random_normal([10]))\n",
    "\n",
    "logits = tf.matmul(X,W)+b\n",
    "hypothesis = tf.nn.softmax(logits)\n",
    "# cost = tf.nn.softmax_cross_entropy_with_logits(logits=logits, labels=Y)\n",
    "cost = -tf.reduce_mean(tf.reduce_sum(Y * tf.log(hypothesis),axis = 1))\n",
    "optimizer = tf.train.GradientDescentOptimizer(learning_rate=1e-2).minimize(cost)\n"
   ]
  },
  {
   "cell_type": "code",
   "execution_count": 24,
   "metadata": {},
   "outputs": [
    {
     "name": "stdout",
     "output_type": "stream",
     "text": [
      "[25.530323  34.171223   7.8078218 ... 26.419735   7.058046   7.469428 ]\n",
      "[7.85151339e+00 1.38074255e+01 3.85259748e-01 ... 4.26726580e+00\n",
      " 5.02194822e-01 1.10821687e-02]\n",
      "[5.3760214 8.580471  0.866308  ... 1.354418  0.2274072 0.0293554]\n",
      "[4.454357   5.7492228  1.26426    ... 0.36356428 0.17937338 0.03629152]\n",
      "[3.9245088  3.903304   1.5359228  ... 0.11245766 0.16802968 0.04349789]\n",
      "[3.570313   2.6176207  1.7290471  ... 0.04490066 0.16295458 0.05234509]\n",
      "[3.3219407  1.7165799  1.8783495  ... 0.02259696 0.15865254 0.06203081]\n",
      "[3.1533759  1.1100826  1.9996212  ... 0.01397585 0.15492527 0.07204011]\n",
      "[3.0553443  0.72323835 2.1000242  ... 0.01033195 0.15217388 0.0821356 ]\n",
      "[3.0156267  0.4843467  2.1844642  ... 0.0087958  0.15037341 0.09207234]\n",
      "[3.0179935  0.33688802 2.2567682  ... 0.00828047 0.14929487 0.10161024]\n",
      "[3.0493555  0.24394524 2.3198295  ... 0.00832185 0.14868322 0.11069442]\n",
      "[3.0996764  0.18350911 2.376116   ... 0.00870268 0.14829645 0.11941344]\n",
      "[3.161286   0.1428142  2.4277804  ... 0.009313   0.14792472 0.1278793 ]\n",
      "[3.228503   0.11444363 2.4765427  ... 0.01009159 0.14740504 0.13616322]\n",
      "[3.2971573  0.094014   2.5235283  ... 0.01100282 0.14662787 0.1442834 ]\n",
      "[3.3642406  0.07886948 2.5693817  ... 0.01202124 0.1455393  0.15221871]\n",
      "[3.4276822  0.06735271 2.6143541  ... 0.01312792 0.14413087 0.15992314]\n",
      "[3.4860756  0.05839784 2.6584926  ... 0.01430683 0.14242555 0.1673337 ]\n",
      "[3.5384922  0.05129831 2.7017436  ... 0.01554315 0.14046563 0.17438672]\n"
     ]
    }
   ],
   "source": [
    "sess = tf.Session()\n",
    "sess.run(tf.global_variables_initializer())\n",
    "\n",
    "for step in range(2000):\n",
    "    c,_ = sess.run([cost,optimizer] , feed_dict={X : train, Y: label})\n",
    "    if step % 100 ==0:\n",
    "        print(c)"
   ]
  },
  {
   "cell_type": "code",
   "execution_count": 49,
   "metadata": {},
   "outputs": [],
   "source": [
    "is_correct = tf.equal(tf.argmax(hypothesis,1), tf.argmax(Y,1))\n",
    "accuracy = tf.reduce_mean(tf.cast(is_correct, tf.float32))"
   ]
  },
  {
   "cell_type": "code",
   "execution_count": 53,
   "metadata": {},
   "outputs": [
    {
     "data": {
      "text/plain": [
       "False"
      ]
     },
     "execution_count": 53,
     "metadata": {},
     "output_type": "execute_result"
    }
   ],
   "source": [
    "bool(0)"
   ]
  },
  {
   "cell_type": "code",
   "execution_count": 50,
   "metadata": {},
   "outputs": [
    {
     "name": "stdout",
     "output_type": "stream",
     "text": [
      "Epoch : 0 avg_cost :  9.009284843965002\n",
      "Epoch : 1 avg_cost :  4.5574887384067875\n",
      "Epoch : 2 avg_cost :  2.9651831616054873\n",
      "Epoch : 3 avg_cost :  2.3362812356515383\n",
      "Epoch : 4 avg_cost :  1.939399027607658\n",
      "Epoch : 5 avg_cost :  1.7325848976048557\n",
      "Epoch : 6 avg_cost :  1.5486415714567372\n",
      "Epoch : 7 avg_cost :  1.4409722353111603\n",
      "Epoch : 8 avg_cost :  1.351752435727553\n",
      "Epoch : 9 avg_cost :  1.2651126043363061\n",
      "Epoch : 10 avg_cost :  1.21076068834825\n",
      "Epoch : 11 avg_cost :  1.156215441660448\n",
      "Epoch : 12 avg_cost :  1.1208141326091512\n",
      "Epoch : 13 avg_cost :  1.0716053084351813\n",
      "Epoch : 14 avg_cost :  1.0392727379365394\n",
      "Epoch : 15 avg_cost :  1.016926033767787\n",
      "Epoch : 16 avg_cost :  0.9900996569611799\n",
      "Epoch : 17 avg_cost :  0.9736592410369354\n",
      "Epoch : 18 avg_cost :  0.9324131881106991\n",
      "Epoch : 19 avg_cost :  0.9303458474982863\n",
      "Epoch : 20 avg_cost :  0.9101597367633467\n",
      "Epoch : 21 avg_cost :  0.8855596035447988\n",
      "Epoch : 22 avg_cost :  0.8752057826789944\n",
      "Epoch : 23 avg_cost :  0.8569148915464224\n",
      "Epoch : 24 avg_cost :  0.8447201983495193\n",
      "Epoch : 25 avg_cost :  0.8307806945388965\n",
      "Epoch : 26 avg_cost :  0.8243165916204456\n",
      "Epoch : 27 avg_cost :  0.8087357089465316\n",
      "Epoch : 28 avg_cost :  0.8004098652709617\n",
      "Epoch : 29 avg_cost :  0.7922404871203683\n"
     ]
    }
   ],
   "source": [
    "training_epoch = 30\n",
    "batch_size = 100\n",
    "\n",
    "sess = tf.Session()\n",
    "sess.run(tf.global_variables_initializer())\n",
    "\n",
    "for epoch in range(training_epoch):\n",
    "    avg_cost=0\n",
    "    total_batch = int(mnist.train.num_examples/batch_size)\n",
    "    for i in range(total_batch):\n",
    "        batch_xs, batch_ys = mnist.train.next_batch(batch_size)\n",
    "        c,_ = sess.run([cost, optimizer], feed_dict={X: batch_xs, Y:batch_ys})\n",
    "        avg_cost += c/total_batch\n",
    "    print(\"Epoch :\", epoch , \"avg_cost : \",avg_cost)\n",
    "    \n"
   ]
  },
  {
   "cell_type": "code",
   "execution_count": 51,
   "metadata": {},
   "outputs": [
    {
     "data": {
      "text/plain": [
       "0.8431"
      ]
     },
     "execution_count": 51,
     "metadata": {},
     "output_type": "execute_result"
    }
   ],
   "source": [
    "sess.run(accuracy, feed_dict={X:x_test, Y:y_test})"
   ]
  },
  {
   "cell_type": "code",
   "execution_count": null,
   "metadata": {},
   "outputs": [],
   "source": []
  },
  {
   "cell_type": "code",
   "execution_count": 54,
   "metadata": {},
   "outputs": [],
   "source": [
    "import random\n",
    "import matplotlib.pyplot as plt"
   ]
  },
  {
   "cell_type": "code",
   "execution_count": 69,
   "metadata": {},
   "outputs": [
    {
     "name": "stdout",
     "output_type": "stream",
     "text": [
      "label :  [5]\n",
      "prediction :  [5]\n"
     ]
    },
    {
     "data": {
      "text/plain": [
       "<matplotlib.image.AxesImage at 0x13516748>"
      ]
     },
     "execution_count": 69,
     "metadata": {},
     "output_type": "execute_result"
    },
    {
     "data": {
      "image/png": "[encoded data removed]",
      "text/plain": [
       "<Figure size 432x288 with 1 Axes>"
      ]
     },
     "metadata": {},
     "output_type": "display_data"
    }
   ],
   "source": [
    "# 시각화로 확인해보기 ㅎㅎ\n",
    "\n",
    "r = random.randint(0, mnist.test.num_examples-1)\n",
    "print('label : ',sess.run(tf.argmax(mnist.test.labels[[r]],1)))\n",
    "print('prediction : ',sess.run(tf.argmax(hypothesis,1), feed_dict={X:mnist.test.images[[r]]}))\n",
    "\n",
    "plt.imshow(\n",
    "    mnist.test.images[[r]].reshape(28,28),\n",
    "    cmap='Greys',\n",
    "    interpolation='nearest')"
   ]
  },
  {
   "cell_type": "code",
   "execution_count": null,
   "metadata": {},
   "outputs": [],
   "source": []
  }
 ],
 "metadata": {
  "kernelspec": {
   "display_name": "Python 3",
   "language": "python",
   "name": "python3"
  },
  "language_info": {
   "codemirror_mode": {
    "name": "ipython",
    "version": 3
   },
   "file_extension": ".py",
   "mimetype": "text/x-python",
   "name": "python",
   "nbconvert_exporter": "python",
   "pygments_lexer": "ipython3",
   "version": "3.6.5"
  }
 },
 "nbformat": 4,
 "nbformat_minor": 2
}
