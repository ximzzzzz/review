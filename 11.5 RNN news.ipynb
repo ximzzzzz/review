{
 "cells": [
  {
   "cell_type": "code",
   "execution_count": 1,
   "metadata": {
    "scrolled": false
   },
   "outputs": [
    {
     "name": "stderr",
     "output_type": "stream",
     "text": [
      "C:\\ProgramData\\Anaconda3\\lib\\site-packages\\h5py\\__init__.py:36: FutureWarning: Conversion of the second argument of issubdtype from `float` to `np.floating` is deprecated. In future, it will be treated as `np.float64 == np.dtype(float).type`.\n",
      "  from ._conv import register_converters as _register_converters\n"
     ]
    }
   ],
   "source": [
    "import numpy as np\n",
    "import tensorflow as tf"
   ]
  },
  {
   "cell_type": "code",
   "execution_count": 2,
   "metadata": {},
   "outputs": [],
   "source": [
    "sample = (\" Authorities in Turkey -- who say Khashoggi\"\n",
    "          \"was murdered by a hit squad sent from Riyadh\"\n",
    "          \"-- are still searching for the journalist's remains.\"\n",
    "          \" Earlier this week, the chief prosecutor's office \"\n",
    "          \"said Khashoggi's body was dismembered after he was str\"\n",
    "          \"angled, while the Washington Post reported investigators\"\n",
    "          \"were looking into the theory that the body was dissolved \"\n",
    "          \"in acid. A source close to the Saudi Royal Palace has de\"\n",
    "          \"nied any knowledge of the body's whereabouts.\")\n",
    "idx2char = list(set(sample))\n",
    "char2idx = {c:i for i,c in enumerate(idx2char)}"
   ]
  },
  {
   "cell_type": "code",
   "execution_count": 3,
   "metadata": {},
   "outputs": [],
   "source": [
    "input_dim = len(idx2char)\n",
    "hidden_size = len(idx2char)\n",
    "num_classes = len(idx2char)\n",
    "sequence_length = 10\n",
    "learning_rate = 0.1\n",
    "\n",
    "dataX = []\n",
    "dataY = []\n",
    "for i in range(0, len(sample)-sequence_length):\n",
    "    x_str = sample[i:i+sequence_length]\n",
    "    y_str = sample[i+1:i+sequence_length+1]\n",
    "    x = [char2idx[c] for c in x_str]\n",
    "    y = [char2idx[c] for c in y_str]\n",
    "    dataX.append(x)\n",
    "    dataY.append(y)\n",
    "\n",
    "batch_size = len(dataX)\n",
    "\n",
    "sample_idx = [char2idx[c] for c in sample]\n",
    "x_data = [sample_idx[:-1]]\n",
    "y_data = [sample_idx[1:]]\n",
    "\n",
    "X = tf.placeholder(tf.int32, shape=[None,sequence_length])\n",
    "Y = tf.placeholder(tf.int32, shape=[None,sequence_length])\n",
    "x_one_hot = tf.one_hot(X, input_dim)\n",
    "cell = tf.contrib.rnn.BasicLSTMCell(num_units=hidden_size, state_is_tuple=True)\n",
    "initial_state = cell.zero_state(batch_size, tf.float32)\n",
    "outputs, _states = tf.nn.dynamic_rnn(cell, x_one_hot, initial_state=initial_state,\n",
    "                                    dtype=tf.float32)\n",
    "X_for_fc = tf.reshape(outputs, [-1,hidden_size])\n",
    "outputs = tf.contrib.layers.fully_connected(X_for_fc, num_classes, activation_fn=None)\n",
    "outputs = tf.reshape(outputs, [batch_size,sequence_length, num_classes])\n",
    "weights = tf.ones([batch_size, sequence_length])\n",
    "sequence_loss = tf.contrib.seq2seq.sequence_loss(logits=outputs, targets=Y,\n",
    "                                                weights=weights)\n",
    "loss = tf.reduce_mean(sequence_loss)\n",
    "train = tf.train.AdamOptimizer(learning_rate=learning_rate).minimize(loss)\n",
    "prediction = tf.argmax(outputs, axis=2)\n"
   ]
  },
  {
   "cell_type": "code",
   "execution_count": 4,
   "metadata": {},
   "outputs": [
    {
     "name": "stdout",
     "output_type": "stream",
     "text": [
      "step: 0 Loss: 3.6138318\n",
      "step: 100 Loss: 0.32329622\n",
      "step: 200 Loss: 0.3110854\n",
      "step: 300 Loss: 0.31010175\n",
      "step: 400 Loss: 0.308718\n",
      "step: 500 Loss: 0.30951244\n",
      "step: 600 Loss: 0.30801818\n",
      "step: 700 Loss: 0.30803755\n",
      "step: 800 Loss: 0.30811808\n",
      "step: 900 Loss: 0.3080096\n",
      "step: 1000 Loss: 0.3083549\n",
      "step: 1100 Loss: 0.30769554\n",
      "step: 1200 Loss: 0.30764076\n",
      "step: 1300 Loss: 0.30837834\n",
      "step: 1400 Loss: 0.3075836\n",
      "step: 1500 Loss: 0.30759314\n",
      "step: 1600 Loss: 0.30761254\n",
      "step: 1700 Loss: 0.30759156\n",
      "step: 1800 Loss: 0.3076332\n",
      "step: 1900 Loss: 0.30749762\n"
     ]
    }
   ],
   "source": [
    "sess = tf.Session()\n",
    "sess.run(tf.global_variables_initializer())\n",
    "for step in range(2000):\n",
    "    l,_ = sess.run([loss,train], feed_dict={X:dataX, Y:dataY})\n",
    "    if step % 100 == 0:\n",
    "#         result = sess.run(prediction, feed_dict={X:x_data})\n",
    "#         result_str = [idx2char[c] for c in np.squeeze(result)]\n",
    "        print (\"step:\",step,\"Loss:\",l)"
   ]
  },
  {
   "cell_type": "code",
   "execution_count": null,
   "metadata": {},
   "outputs": [],
   "source": []
  },
  {
   "cell_type": "code",
   "execution_count": null,
   "metadata": {},
   "outputs": [],
   "source": []
  },
  {
   "cell_type": "markdown",
   "metadata": {},
   "source": [
    "# RNN 셀을 여러개 쌓아보기"
   ]
  },
  {
   "cell_type": "code",
   "execution_count": 1,
   "metadata": {
    "scrolled": true
   },
   "outputs": [
    {
     "name": "stderr",
     "output_type": "stream",
     "text": [
      "C:\\ProgramData\\Anaconda3\\lib\\site-packages\\h5py\\__init__.py:36: FutureWarning: Conversion of the second argument of issubdtype from `float` to `np.floating` is deprecated. In future, it will be treated as `np.float64 == np.dtype(float).type`.\n",
      "  from ._conv import register_converters as _register_converters\n"
     ]
    }
   ],
   "source": [
    "import numpy as np\n",
    "import tensorflow as tf"
   ]
  },
  {
   "cell_type": "code",
   "execution_count": 2,
   "metadata": {},
   "outputs": [],
   "source": [
    "sample = (\" Authorities in Turkey -- who say Khashoggi\"\n",
    "          \"was murdered by a hit squad sent from Riyadh\"\n",
    "          \"-- are still searching for the journalist's remains.\"\n",
    "          \" Earlier this week, the chief prosecutor's office \"\n",
    "          \"said Khashoggi's body was dismembered after he was str\"\n",
    "          \"angled, while the Washington Post reported investigators\"\n",
    "          \"were looking into the theory that the body was dissolved \"\n",
    "          \"in acid. A source close to the Saudi Royal Palace has de\"\n",
    "          \"nied any knowledge of the body's whereabouts.\")\n",
    "idx2char = list(set(sample))\n",
    "char2idx = {c:i for i,c in enumerate(idx2char)}"
   ]
  },
  {
   "cell_type": "code",
   "execution_count": 3,
   "metadata": {},
   "outputs": [],
   "source": [
    "input_dim = len(idx2char)\n",
    "hidden_size = len(idx2char)\n",
    "num_classes = len(idx2char)\n",
    "sequence_length = 10\n",
    "learning_rate = 0.1\n",
    "\n",
    "dataX = []\n",
    "dataY = []\n",
    "for i in range(0, len(sample)-sequence_length):\n",
    "    x_str = sample[i:i+sequence_length]\n",
    "    y_str = sample[i+1:i+sequence_length+1]\n",
    "    x = [char2idx[c] for c in x_str]\n",
    "    y = [char2idx[c] for c in y_str]\n",
    "    dataX.append(x)\n",
    "    dataY.append(y)\n",
    "\n",
    "batch_size = len(dataX)"
   ]
  },
  {
   "cell_type": "code",
   "execution_count": 4,
   "metadata": {},
   "outputs": [],
   "source": [
    "X = tf.placeholder(tf.int32, shape=[None,sequence_length])\n",
    "Y = tf.placeholder(tf.int32, shape=[None,sequence_length])\n",
    "X_one_hot = tf.one_hot(X, input_dim)\n",
    "\n",
    "def lstm_cell():\n",
    "    return tf.contrib.rnn.BasicLSTMCell(hidden_size, state_is_tuple=True)\n",
    "# 세개의 lstm 셀층을 더만든다\n",
    "multi_cells = tf.contrib.rnn.MultiRNNCell([lstm_cell()] * 3, state_is_tuple=True)\n",
    "\n",
    "outputs, _status = tf.nn.dynamic_rnn(multi_cells, X_one_hot, dtype=tf.float32)\n",
    "X_for_fc = tf.reshape(outputs, [-1, hidden_size])\n",
    "outputs = tf.contrib.layers.fully_connected(X_for_fc, num_classes, activation_fn=None)\n",
    "outputs = tf.reshape(outputs, [batch_size, sequence_length, num_classes])\n",
    "weights = tf.ones([batch_size, sequence_length])\n",
    "sequence_loss = tf.contrib.seq2seq.sequence_loss(logits = outputs, targets=Y, weights=weights)\n",
    "\n",
    "loss =tf.reduce_mean(sequence_loss)\n",
    "train = tf.train.AdamOptimizer(learning_rate=learning_rate).minimize(loss)\n",
    "\n"
   ]
  },
  {
   "cell_type": "code",
   "execution_count": 5,
   "metadata": {},
   "outputs": [
    {
     "name": "stdout",
     "output_type": "stream",
     "text": [
      "step: 0 Loss: 3.6112285\n",
      "step: 100 Loss: 0.88494325\n",
      "step: 200 Loss: 0.34947336\n",
      "step: 300 Loss: 0.31666362\n",
      "step: 400 Loss: 0.31217918\n",
      "step: 500 Loss: 0.31223598\n",
      "step: 600 Loss: 0.30946738\n",
      "step: 700 Loss: 0.30904177\n",
      "step: 800 Loss: 0.30906898\n",
      "step: 900 Loss: 0.30864483\n",
      "step: 1000 Loss: 0.30929884\n",
      "step: 1100 Loss: 0.30907312\n",
      "step: 1200 Loss: 0.308635\n",
      "step: 1300 Loss: 0.30810642\n",
      "step: 1400 Loss: 0.30807576\n",
      "step: 1500 Loss: 0.30798376\n",
      "step: 1600 Loss: 0.308184\n",
      "step: 1700 Loss: 0.30927673\n",
      "step: 1800 Loss: 0.30779734\n",
      "step: 1900 Loss: 0.3078444\n"
     ]
    }
   ],
   "source": [
    "sess = tf.Session()\n",
    "sess.run(tf.global_variables_initializer())\n",
    "for step in range(2000):\n",
    "    l,_ = sess.run([loss,train], feed_dict={X:dataX, Y:dataY})\n",
    "    if step % 100 == 0:\n",
    "#         result = sess.run(prediction, feed_dict={X:x_data})\n",
    "#         result_str = [idx2char[c] for c in np.squeeze(result)]\n",
    "        print (\"step:\",step,\"Loss:\",l)"
   ]
  },
  {
   "cell_type": "code",
   "execution_count": 8,
   "metadata": {},
   "outputs": [
    {
     "name": "stdout",
     "output_type": "stream",
     "text": [
      "suthorities in Turkey -- who say Khashoggi'as murdered by a hit squad sent from Riyadh-- are still searching for the journalist's remains. Earlier this week, the chief prosecutor's office said Khashoggi's body was dissembered after he was strangled, while the Washington Post reported investigatorswere looking into the theory that the body was dissolved in acid. A source close to the Saudi Royal Palace has denied any knowledge of the body's whereabouts."
     ]
    }
   ],
   "source": [
    "result = sess.run(outputs, feed_dict={X:dataX})\n",
    "for j, result in enumerate(result):\n",
    "    index = np.argmax(result, axis=1)\n",
    "    if j is 0:\n",
    "        print(''.join([idx2char[t] for t in index]), end='')\n",
    "    else:\n",
    "        print(idx2char[index[-1]], end='')"
   ]
  },
  {
   "cell_type": "code",
   "execution_count": null,
   "metadata": {},
   "outputs": [],
   "source": []
  }
 ],
 "metadata": {
  "kernelspec": {
   "display_name": "Python 3",
   "language": "python",
   "name": "python3"
  },
  "language_info": {
   "codemirror_mode": {
    "name": "ipython",
    "version": 3
   },
   "file_extension": ".py",
   "mimetype": "text/x-python",
   "name": "python",
   "nbconvert_exporter": "python",
   "pygments_lexer": "ipython3",
   "version": "3.6.5"
  }
 },
 "nbformat": 4,
 "nbformat_minor": 2
}
