{
 "cells": [
  {
   "cell_type": "code",
   "execution_count": null,
   "metadata": {},
   "outputs": [],
   "source": [
    "#강화학습\n",
    "# DETERMINISTIC VS STOCHASTIC(어느정도 RANDOM한)\n",
    "\n",
    "#STOCHASTIC한 상황에선 learning rate와 gamma를 정해서 내 정보를 좀 더 활용한다\n",
    "\n",
    "# Q-network : 강화학습 Q-learning 이 사이즈가 커질떄 20**80*80으로 사이즈가 커지는것을 보완하기위해\n",
    "# 뉴럴 네트워크로 방식을 바꾸는것 -> DQN\n",
    "\n",
    "#추가적으로 공부해야할것\n",
    "#vae\n",
    "#auto encoder\n",
    "#DAVID silver reinforcement 강의 추천 (http://www0.cs.ucl.ac.uk/staff/d.silver/web/Teaching.html)\n",
    "#케라스 강좌(https://tykimos.github.io/lecture/)\n",
    "\n"
   ]
  }
 ],
 "metadata": {
  "kernelspec": {
   "display_name": "Python 3",
   "language": "python",
   "name": "python3"
  },
  "language_info": {
   "codemirror_mode": {
    "name": "ipython",
    "version": 3
   },
   "file_extension": ".py",
   "mimetype": "text/x-python",
   "name": "python",
   "nbconvert_exporter": "python",
   "pygments_lexer": "ipython3",
   "version": "3.6.5"
  }
 },
 "nbformat": 4,
 "nbformat_minor": 2
}
