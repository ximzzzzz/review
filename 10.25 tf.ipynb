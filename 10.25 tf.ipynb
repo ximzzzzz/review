{
 "cells": [
  {
   "cell_type": "code",
   "execution_count": 3,
   "metadata": {},
   "outputs": [],
   "source": [
    "import tensorflow as tf"
   ]
  },
  {
   "cell_type": "code",
   "execution_count": 9,
   "metadata": {},
   "outputs": [],
   "source": [
    "sess = tf.InteractiveSession()\n",
    "a = tf.one_hot([[0],[1],[2],[3]],depth=4).eval()"
   ]
  },
  {
   "cell_type": "code",
   "execution_count": null,
   "metadata": {},
   "outputs": [],
   "source": [
    "tf.cast([1.3,3,9,3,])\n",
    "\n",
    "tf.reduce_mean(tf.cast([True, False, 1==1, 1!=1], tf.float32)).eval()"
   ]
  },
  {
   "cell_type": "code",
   "execution_count": 22,
   "metadata": {
    "scrolled": true
   },
   "outputs": [
    {
     "ename": "TypeError",
     "evalue": "Tensors in list passed to 'values' of 'Pack' Op have types [float32, int32, int32] that don't all match.",
     "output_type": "error",
     "traceback": [
      "\u001b[1;31m---------------------------------------------------------------------------\u001b[0m",
      "\u001b[1;31mTypeError\u001b[0m                                 Traceback (most recent call last)",
      "\u001b[1;32mC:\\ProgramData\\Anaconda3\\lib\\site-packages\\tensorflow\\python\\framework\\op_def_library.py\u001b[0m in \u001b[0;36m_apply_op_helper\u001b[1;34m(self, op_type_name, name, **keywords)\u001b[0m\n\u001b[0;32m    457\u001b[0m                 set(v.dtype.base_dtype for v in values)) > 1:\n\u001b[1;32m--> 458\u001b[1;33m               \u001b[1;32mraise\u001b[0m \u001b[0mTypeError\u001b[0m\u001b[1;33m(\u001b[0m\u001b[1;33m)\u001b[0m  \u001b[1;31m# All types should match.\u001b[0m\u001b[1;33m\u001b[0m\u001b[0m\n\u001b[0m\u001b[0;32m    459\u001b[0m           \u001b[1;32mexcept\u001b[0m \u001b[1;33m(\u001b[0m\u001b[0mTypeError\u001b[0m\u001b[1;33m,\u001b[0m \u001b[0mValueError\u001b[0m\u001b[1;33m)\u001b[0m\u001b[1;33m:\u001b[0m\u001b[1;33m\u001b[0m\u001b[0m\n",
      "\u001b[1;31mTypeError\u001b[0m: ",
      "\nDuring handling of the above exception, another exception occurred:\n",
      "\u001b[1;31mTypeError\u001b[0m                                 Traceback (most recent call last)",
      "\u001b[1;32m<ipython-input-22-8567f752843b>\u001b[0m in \u001b[0;36m<module>\u001b[1;34m()\u001b[0m\n\u001b[0;32m      3\u001b[0m \u001b[0mz\u001b[0m \u001b[1;33m=\u001b[0m \u001b[1;33m[\u001b[0m\u001b[1;36m3\u001b[0m\u001b[1;33m,\u001b[0m\u001b[1;36m6\u001b[0m\u001b[1;33m]\u001b[0m\u001b[1;33m\u001b[0m\u001b[0m\n\u001b[0;32m      4\u001b[0m \u001b[1;33m\u001b[0m\u001b[0m\n\u001b[1;32m----> 5\u001b[1;33m \u001b[0mtf\u001b[0m\u001b[1;33m.\u001b[0m\u001b[0mstack\u001b[0m\u001b[1;33m(\u001b[0m\u001b[1;33m[\u001b[0m\u001b[0mx\u001b[0m\u001b[1;33m,\u001b[0m\u001b[0my\u001b[0m\u001b[1;33m,\u001b[0m\u001b[0mz\u001b[0m\u001b[1;33m]\u001b[0m\u001b[1;33m)\u001b[0m\u001b[1;33m.\u001b[0m\u001b[0meval\u001b[0m\u001b[1;33m(\u001b[0m\u001b[1;33m)\u001b[0m\u001b[1;33m\u001b[0m\u001b[0m\n\u001b[0m",
      "\u001b[1;32mC:\\ProgramData\\Anaconda3\\lib\\site-packages\\tensorflow\\python\\ops\\array_ops.py\u001b[0m in \u001b[0;36mstack\u001b[1;34m(values, axis, name)\u001b[0m\n\u001b[0;32m    873\u001b[0m                                                       expanded_num_dims))\n\u001b[0;32m    874\u001b[0m \u001b[1;33m\u001b[0m\u001b[0m\n\u001b[1;32m--> 875\u001b[1;33m   \u001b[1;32mreturn\u001b[0m \u001b[0mgen_array_ops\u001b[0m\u001b[1;33m.\u001b[0m\u001b[0mpack\u001b[0m\u001b[1;33m(\u001b[0m\u001b[0mvalues\u001b[0m\u001b[1;33m,\u001b[0m \u001b[0maxis\u001b[0m\u001b[1;33m=\u001b[0m\u001b[0maxis\u001b[0m\u001b[1;33m,\u001b[0m \u001b[0mname\u001b[0m\u001b[1;33m=\u001b[0m\u001b[0mname\u001b[0m\u001b[1;33m)\u001b[0m\u001b[1;33m\u001b[0m\u001b[0m\n\u001b[0m\u001b[0;32m    876\u001b[0m \u001b[1;33m\u001b[0m\u001b[0m\n\u001b[0;32m    877\u001b[0m \u001b[1;33m\u001b[0m\u001b[0m\n",
      "\u001b[1;32mC:\\ProgramData\\Anaconda3\\lib\\site-packages\\tensorflow\\python\\ops\\gen_array_ops.py\u001b[0m in \u001b[0;36mpack\u001b[1;34m(values, axis, name)\u001b[0m\n\u001b[0;32m   5531\u001b[0m     \u001b[0maxis\u001b[0m \u001b[1;33m=\u001b[0m \u001b[0m_execute\u001b[0m\u001b[1;33m.\u001b[0m\u001b[0mmake_int\u001b[0m\u001b[1;33m(\u001b[0m\u001b[0maxis\u001b[0m\u001b[1;33m,\u001b[0m \u001b[1;34m\"axis\"\u001b[0m\u001b[1;33m)\u001b[0m\u001b[1;33m\u001b[0m\u001b[0m\n\u001b[0;32m   5532\u001b[0m     _, _, _op = _op_def_lib._apply_op_helper(\n\u001b[1;32m-> 5533\u001b[1;33m         \"Pack\", values=values, axis=axis, name=name)\n\u001b[0m\u001b[0;32m   5534\u001b[0m     \u001b[0m_result\u001b[0m \u001b[1;33m=\u001b[0m \u001b[0m_op\u001b[0m\u001b[1;33m.\u001b[0m\u001b[0moutputs\u001b[0m\u001b[1;33m[\u001b[0m\u001b[1;33m:\u001b[0m\u001b[1;33m]\u001b[0m\u001b[1;33m\u001b[0m\u001b[0m\n\u001b[0;32m   5535\u001b[0m     \u001b[0m_inputs_flat\u001b[0m \u001b[1;33m=\u001b[0m \u001b[0m_op\u001b[0m\u001b[1;33m.\u001b[0m\u001b[0minputs\u001b[0m\u001b[1;33m\u001b[0m\u001b[0m\n",
      "\u001b[1;32mC:\\ProgramData\\Anaconda3\\lib\\site-packages\\tensorflow\\python\\framework\\op_def_library.py\u001b[0m in \u001b[0;36m_apply_op_helper\u001b[1;34m(self, op_type_name, name, **keywords)\u001b[0m\n\u001b[0;32m    481\u001b[0m                                 (prefix, dtype.name))\n\u001b[0;32m    482\u001b[0m               \u001b[1;32melse\u001b[0m\u001b[1;33m:\u001b[0m\u001b[1;33m\u001b[0m\u001b[0m\n\u001b[1;32m--> 483\u001b[1;33m                 \u001b[1;32mraise\u001b[0m \u001b[0mTypeError\u001b[0m\u001b[1;33m(\u001b[0m\u001b[1;34m\"%s that don't all match.\"\u001b[0m \u001b[1;33m%\u001b[0m \u001b[0mprefix\u001b[0m\u001b[1;33m)\u001b[0m\u001b[1;33m\u001b[0m\u001b[0m\n\u001b[0m\u001b[0;32m    484\u001b[0m             \u001b[1;32melse\u001b[0m\u001b[1;33m:\u001b[0m\u001b[1;33m\u001b[0m\u001b[0m\n\u001b[0;32m    485\u001b[0m               \u001b[1;32mraise\u001b[0m \u001b[0mTypeError\u001b[0m\u001b[1;33m(\u001b[0m\u001b[1;34m\"%s that are invalid.\"\u001b[0m \u001b[1;33m%\u001b[0m \u001b[0mprefix\u001b[0m\u001b[1;33m)\u001b[0m\u001b[1;33m\u001b[0m\u001b[0m\n",
      "\u001b[1;31mTypeError\u001b[0m: Tensors in list passed to 'values' of 'Pack' Op have types [float32, int32, int32] that don't all match."
     ]
    }
   ],
   "source": [
    "x= [1.4]\n",
    "y= [2,5]\n",
    "z= [3,6]\n",
    "\n",
    "tf.stack([x,y,z]).eval()"
   ]
  },
  {
   "cell_type": "code",
   "execution_count": 11,
   "metadata": {},
   "outputs": [
    {
     "data": {
      "text/plain": [
       "array([[1, 1, 1],\n",
       "       [1, 1, 1],\n",
       "       [1, 1, 1]])"
      ]
     },
     "execution_count": 11,
     "metadata": {},
     "output_type": "execute_result"
    }
   ],
   "source": [
    "x = [[1,2,3],[4,5,6],[7,8,9]]\n",
    "tf.ones_like(x).eval()"
   ]
  },
  {
   "cell_type": "markdown",
   "metadata": {},
   "source": [
    "# numpy 잠깐"
   ]
  },
  {
   "cell_type": "code",
   "execution_count": 12,
   "metadata": {},
   "outputs": [],
   "source": [
    "import numpy as np"
   ]
  },
  {
   "cell_type": "code",
   "execution_count": 19,
   "metadata": {},
   "outputs": [
    {
     "name": "stdout",
     "output_type": "stream",
     "text": [
      "(2, 3)\n",
      "2\n"
     ]
    }
   ],
   "source": [
    "x = np.array([[1,2,3],[4,5,6]])\n",
    "print(x.shape)\n",
    "print(np.ndim(x))"
   ]
  },
  {
   "cell_type": "code",
   "execution_count": 25,
   "metadata": {},
   "outputs": [
    {
     "name": "stdout",
     "output_type": "stream",
     "text": [
      "[[0. 0. 0. 0. 0. 0. 0. 0. 0. 0.]\n",
      " [0. 0. 0. 0. 0. 0. 0. 0. 0. 0.]\n",
      " [0. 0. 0. 0. 0. 0. 0. 0. 0. 0.]\n",
      " [0. 0. 0. 0. 0. 0. 0. 0. 0. 0.]\n",
      " [0. 0. 0. 0. 0. 0. 0. 0. 0. 0.]\n",
      " [0. 0. 0. 0. 0. 0. 0. 0. 0. 0.]\n",
      " [0. 0. 0. 0. 0. 0. 0. 0. 0. 0.]\n",
      " [0. 0. 0. 0. 0. 0. 0. 0. 0. 0.]\n",
      " [0. 0. 0. 0. 0. 0. 0. 0. 0. 0.]\n",
      " [0. 0. 0. 0. 0. 0. 0. 0. 0. 0.]]\n",
      "[[1. 1. 1. 1. 1. 1. 1. 1. 1. 1.]\n",
      " [1. 1. 1. 1. 1. 1. 1. 1. 1. 1.]\n",
      " [1. 1. 1. 1. 1. 1. 1. 1. 1. 1.]\n",
      " [1. 1. 1. 1. 1. 1. 1. 1. 1. 1.]\n",
      " [1. 1. 1. 1. 1. 1. 1. 1. 1. 1.]\n",
      " [1. 1. 1. 1. 1. 1. 1. 1. 1. 1.]\n",
      " [1. 1. 1. 1. 1. 1. 1. 1. 1. 1.]\n",
      " [1. 1. 1. 1. 1. 1. 1. 1. 1. 1.]\n",
      " [1. 1. 1. 1. 1. 1. 1. 1. 1. 1.]\n",
      " [1. 1. 1. 1. 1. 1. 1. 1. 1. 1.]]\n",
      "[[7 7 7 7 7 7 7 7 7 7]\n",
      " [7 7 7 7 7 7 7 7 7 7]\n",
      " [7 7 7 7 7 7 7 7 7 7]\n",
      " [7 7 7 7 7 7 7 7 7 7]\n",
      " [7 7 7 7 7 7 7 7 7 7]\n",
      " [7 7 7 7 7 7 7 7 7 7]\n",
      " [7 7 7 7 7 7 7 7 7 7]\n",
      " [7 7 7 7 7 7 7 7 7 7]\n",
      " [7 7 7 7 7 7 7 7 7 7]\n",
      " [7 7 7 7 7 7 7 7 7 7]]\n",
      "[[1. 0. 0.]\n",
      " [0. 1. 0.]\n",
      " [0. 0. 1.]]\n"
     ]
    }
   ],
   "source": [
    "a = np.zeros((10,10))\n",
    "print(a)\n",
    "b = np.ones((10,10))\n",
    "print(b)\n",
    "c= np.full((10,10),7)\n",
    "print(c)\n",
    "d= np.eye(3)\n",
    "print(d)"
   ]
  },
  {
   "cell_type": "code",
   "execution_count": 30,
   "metadata": {},
   "outputs": [
    {
     "name": "stdout",
     "output_type": "stream",
     "text": [
      "[[0.40453571 0.23029199 0.24250822]\n",
      " [0.03880201 0.56718108 0.25664616]\n",
      " [0.63623276 0.48906606 0.51155942]]\n",
      "[ 0.          1.05263158  2.10526316  3.15789474  4.21052632  5.26315789\n",
      "  6.31578947  7.36842105  8.42105263  9.47368421 10.52631579 11.57894737\n",
      " 12.63157895 13.68421053 14.73684211 15.78947368 16.84210526 17.89473684\n",
      " 18.94736842 20.        ]\n"
     ]
    }
   ],
   "source": [
    "print(np.random.random((3,3))) #랜덤값 넣어주기\n",
    "print(np.linspace(0,20,20)) #0부터 20까지 균일하게 20등분해서 나타남 -> 그래프 그릴때 스무스하게 나타낼수있다"
   ]
  },
  {
   "cell_type": "code",
   "execution_count": 41,
   "metadata": {},
   "outputs": [
    {
     "data": {
      "text/plain": [
       "array([[1, 2, 3],\n",
       "       [4, 5, 6],\n",
       "       [7, 8, 9]])"
      ]
     },
     "execution_count": 41,
     "metadata": {},
     "output_type": "execute_result"
    }
   ],
   "source": [
    "x = np.array([[1,2,3], [4,5,6], [7,8,9]])\n",
    "x"
   ]
  },
  {
   "cell_type": "code",
   "execution_count": 38,
   "metadata": {},
   "outputs": [
    {
     "name": "stdout",
     "output_type": "stream",
     "text": [
      "[[1 2 3]\n",
      " [4 5 6]\n",
      " [7 8 9]]\n"
     ]
    }
   ],
   "source": [
    "x[:2, 1:]\n",
    "y = x[:] # deepcopy , 아닌데? ㅎㅎ\n",
    "z = x\n",
    "# print(y)\n",
    "# print(z)\n",
    "\n",
    "# y[0] = 21\n",
    "# \n",
    "\n",
    "print(x)"
   ]
  },
  {
   "cell_type": "code",
   "execution_count": 39,
   "metadata": {},
   "outputs": [],
   "source": [
    "z[0] = 21"
   ]
  },
  {
   "cell_type": "code",
   "execution_count": 40,
   "metadata": {},
   "outputs": [
    {
     "data": {
      "text/plain": [
       "array([[21, 21, 21],\n",
       "       [ 4,  5,  6],\n",
       "       [ 7,  8,  9]])"
      ]
     },
     "execution_count": 40,
     "metadata": {},
     "output_type": "execute_result"
    }
   ],
   "source": [
    "y"
   ]
  },
  {
   "cell_type": "code",
   "execution_count": 50,
   "metadata": {},
   "outputs": [
    {
     "name": "stdout",
     "output_type": "stream",
     "text": [
      "[[ 0  1  2]\n",
      " [ 3  4  5]\n",
      " [ 6  7  8]\n",
      " [ 9 10 11]]\n",
      "[[ 1.]\n",
      " [ 4.]\n",
      " [ 7.]\n",
      " [10.]]\n",
      "[[-1.  0.  1.]\n",
      " [-1.  0.  1.]\n",
      " [-1.  0.  1.]\n",
      " [-1.  0.  1.]]\n"
     ]
    }
   ],
   "source": [
    "arr = np.arange(12).reshape(4,3)\n",
    "print(arr)\n",
    "row_mean = arr.mean(axis=1).reshape(4,1)\n",
    "print(row_mean)\n",
    "k = arr-row_mean\n",
    "print(k) "
   ]
  },
  {
   "cell_type": "markdown",
   "metadata": {},
   "source": [
    "# 선형회귀"
   ]
  },
  {
   "cell_type": "code",
   "execution_count": 51,
   "metadata": {},
   "outputs": [],
   "source": [
    "#data만 주고 너가 찾아라 이게 머신러닝 프로그램 방식 -> data driven 방식"
   ]
  },
  {
   "cell_type": "code",
   "execution_count": null,
   "metadata": {},
   "outputs": [],
   "source": [
    "#카테고리(binary, one-hot)를 분류할때 쓰는 cost function 은 cross-entropy"
   ]
  },
  {
   "cell_type": "code",
   "execution_count": 53,
   "metadata": {},
   "outputs": [],
   "source": [
    "# 좋은 cost function 은 convex 하다 그래야 학습이 가능하다"
   ]
  },
  {
   "cell_type": "code",
   "execution_count": 54,
   "metadata": {},
   "outputs": [],
   "source": [
    "# 경사하강법 알고리즘 학습 함 w = w- a(learning rate)*미분값"
   ]
  },
  {
   "cell_type": "code",
   "execution_count": 55,
   "metadata": {},
   "outputs": [],
   "source": [
    "# formal definition : 수식으로 보여줬음"
   ]
  },
  {
   "cell_type": "code",
   "execution_count": null,
   "metadata": {},
   "outputs": [],
   "source": [
    "# global minimum, local minimum에 빠지지 않도록 체크해봐야함 (learning rate를 크게 잡아서 튕겨본다던가)"
   ]
  },
  {
   "cell_type": "code",
   "execution_count": null,
   "metadata": {},
   "outputs": [],
   "source": []
  },
  {
   "cell_type": "code",
   "execution_count": 66,
   "metadata": {},
   "outputs": [],
   "source": [
    "# x_train = [1,2,3]\n",
    "# y_train = [11,20,29]\n",
    "# # w = 9, b = 2\n",
    "\n",
    "#초기화\n",
    "W = tf.Variable(tf.random_normal([1]), name = 'weight') #variable은 초기화를 해줘야한다 항상\n",
    "b = tf.Variable(tf.random_normal([1]), name = 'bias')\n",
    "\n",
    "\n",
    "X = tf.placeholder(tf.float32, shape=[None]) #shape None이기 때문에 n개가 들어올 수 있다 3,4,5 모두가능\n",
    "Y = tf.placeholder(tf.float32, shape=[None])\n",
    "\n",
    "#기준\n",
    "hypothesis = X *W + b\n",
    "cost = tf.reduce_mean(tf.square(hypothesis - Y))\n",
    "\n",
    "#방식\n",
    "optimizer = tf.train.GradientDescentOptimizer(learning_rate=0.01)\n",
    "train = optimizer.minimize(cost)"
   ]
  },
  {
   "cell_type": "code",
   "execution_count": 67,
   "metadata": {},
   "outputs": [],
   "source": [
    "# 위에는 그냥 빌드 단계, 아무것도 실행되는게 없다"
   ]
  },
  {
   "cell_type": "code",
   "execution_count": 71,
   "metadata": {},
   "outputs": [
    {
     "name": "stdout",
     "output_type": "stream",
     "text": [
      "i:  None Step :  0 Cost: 385.62064 W :  [1.1975031] b : [-0.6549685]\n",
      "i:  None Step :  100 Cost: 0.48235464 W :  [8.195248] b : [1.8292482]\n",
      "i:  None Step :  200 Cost: 0.29806635 W :  [8.367432] b : [1.4379756]\n",
      "i:  None Step :  300 Cost: 0.1841867 W :  [8.502744] b : [1.1303793]\n",
      "i:  None Step :  400 Cost: 0.1138162 W :  [8.609112] b : [0.88858074]\n",
      "i:  None Step :  500 Cost: 0.070330806 W :  [8.692727] b : [0.698504]\n",
      "i:  None Step :  600 Cost: 0.043460343 W :  [8.758455] b : [0.54908705]\n",
      "i:  None Step :  700 Cost: 0.02685599 W :  [8.810123] b : [0.43163306]\n",
      "i:  None Step :  800 Cost: 0.01659535 W :  [8.850741] b : [0.33930317]\n",
      "i:  None Step :  900 Cost: 0.010254906 W :  [8.8826685] b : [0.26672247]\n",
      "i:  None Step :  1000 Cost: 0.006336871 W :  [8.907766] b : [0.20966819]\n",
      "i:  None Step :  1100 Cost: 0.0039158086 W :  [8.927497] b : [0.16481827]\n",
      "i:  None Step :  1200 Cost: 0.0024197097 W :  [8.943006] b : [0.12956178]\n",
      "i:  None Step :  1300 Cost: 0.001495194 W :  [8.955197] b : [0.10184643]\n",
      "i:  None Step :  1400 Cost: 0.0009239654 W :  [8.964781] b : [0.08006124]\n",
      "i:  None Step :  1500 Cost: 0.0005709766 W :  [8.972314] b : [0.06293551]\n",
      "i:  None Step :  1600 Cost: 0.00035282644 W :  [8.978236] b : [0.04947397]\n",
      "i:  None Step :  1700 Cost: 0.00021804583 W :  [8.98289] b : [0.03889244]\n",
      "i:  None Step :  1800 Cost: 0.00013475707 W :  [8.986548] b : [0.03057547]\n",
      "i:  None Step :  1900 Cost: 8.330204e-05 W :  [8.989425] b : [0.02403858]\n",
      "i:  None Step :  2000 Cost: 5.1499606e-05 W :  [8.991684] b : [0.01890002]\n",
      "i:  None Step :  2100 Cost: 3.1835178e-05 W :  [8.993463] b : [0.01486149]\n",
      "i:  None Step :  2200 Cost: 1.9690568e-05 W :  [8.994857] b : [0.01168669]\n",
      "i:  None Step :  2300 Cost: 1.2180812e-05 W :  [8.9959545] b : [0.00919113]\n",
      "i:  None Step :  2400 Cost: 7.5355624e-06 W :  [8.996817] b : [0.00723003]\n",
      "i:  None Step :  2500 Cost: 4.6622094e-06 W :  [8.997497] b : [0.00568735]\n",
      "i:  None Step :  2600 Cost: 2.8901377e-06 W :  [8.998028] b : [0.00447647]\n",
      "i:  None Step :  2700 Cost: 1.7909915e-06 W :  [8.998447] b : [0.00352403]\n",
      "i:  None Step :  2800 Cost: 1.1093838e-06 W :  [8.998776] b : [0.00277344]\n",
      "i:  None Step :  2900 Cost: 6.867983e-07 W :  [8.999041] b : [0.00218126]\n",
      "i:  None Step :  3000 Cost: 4.2837837e-07 W :  [8.999241] b : [0.00172267]\n",
      "i:  None Step :  3100 Cost: 2.6340817e-07 W :  [8.999406] b : [0.00135061]\n",
      "i:  None Step :  3200 Cost: 1.6415804e-07 W :  [8.999528] b : [0.00106677]\n",
      "i:  None Step :  3300 Cost: 1.0426356e-07 W :  [8.999625] b : [0.00084923]\n",
      "i:  None Step :  3400 Cost: 6.281698e-08 W :  [8.999711] b : [0.00066109]\n",
      "i:  None Step :  3500 Cost: 3.8180588e-08 W :  [8.999774] b : [0.00051474]\n",
      "i:  None Step :  3600 Cost: 2.3537723e-08 W :  [8.999822] b : [0.00040428]\n",
      "i:  None Step :  3700 Cost: 1.4842044e-08 W :  [8.999857] b : [0.00032099]\n",
      "i:  None Step :  3800 Cost: 9.660046e-09 W :  [8.999885] b : [0.00025811]\n",
      "i:  None Step :  3900 Cost: 6.4298242e-09 W :  [8.999905] b : [0.00021069]\n",
      "i:  None Step :  4000 Cost: 4.5110937e-09 W :  [8.99992] b : [0.00017477]\n",
      "i:  None Step :  4100 Cost: 3.2235523e-09 W :  [8.999931] b : [0.00014766]\n",
      "i:  None Step :  4200 Cost: 2.4316857e-09 W :  [8.99994] b : [0.00012751]\n",
      "i:  None Step :  4300 Cost: 1.8262654e-09 W :  [8.999948] b : [0.0001117]\n",
      "i:  None Step :  4400 Cost: 1.514915e-09 W :  [8.999952] b : [0.00010045]\n",
      "i:  None Step :  4500 Cost: 1.2975457e-09 W :  [8.999956] b : [9.160148e-05]\n",
      "i:  None Step :  4600 Cost: 1.1277734e-09 W :  [8.999959] b : [8.46713e-05]\n",
      "i:  None Step :  4700 Cost: 1.0732037e-09 W :  [8.999961] b : [8.073568e-05]\n",
      "i:  None Step :  4800 Cost: 9.48603e-10 W :  [8.999962] b : [7.7385106e-05]\n",
      "i:  None Step :  4900 Cost: 8.7917823e-10 W :  [8.999964] b : [7.435222e-05]\n"
     ]
    }
   ],
   "source": [
    "sess = tf.Session()\n",
    "sess.run(tf.global_variables_initializer()) #내가보고있는 그래프의 베리어블을 초기화한다\n",
    "\n",
    "for step in range(5000):\n",
    "    i,c,w,k = sess.run([train, cost, W, b], feed_dict = {X:[1,2,3], Y:[9,18,27]})\n",
    "    if step %100==0:\n",
    "        print('Step : ',step, 'Cost:',c,\n",
    "             'W : ', w,\n",
    "             'b :', k )"
   ]
  },
  {
   "cell_type": "markdown",
   "metadata": {},
   "source": [
    "# gradient decent 직접 구현"
   ]
  },
  {
   "cell_type": "code",
   "execution_count": 74,
   "metadata": {},
   "outputs": [],
   "source": [
    "\n",
    "W = tf.Variable(tf.random_normal([1]), name = 'weight') #variable은 초기화를 해줘야한다 항상\n",
    "b = tf.Variable(tf.random_normal([1]), name = 'bias')\n",
    "\n",
    "\n",
    "X = tf.placeholder(tf.float32, shape=[None]) #shape None이기 때문에 n개가 들어올 수 있다 3,4,5 모두가능\n",
    "Y = tf.placeholder(tf.float32, shape=[None])\n",
    "\n",
    "hypothesis = X *W + b\n",
    "cost = tf.reduce_mean(tf.square(hypothesis - Y))\n",
    "\n",
    "learning_rate = 0.01\n",
    "gradient = tf.reduce_mean((W*X-Y)*X)\n",
    "descent = W-learning_rate*gradient\n",
    "update = W.assign(descent) #노드개념이기 때문에 업데이트하기위해선 assign을 시켜줘야한다\n",
    "\n",
    "# if gradient > 1000 : # 컨디션 정해줄때 주관적으로 만들어 줄 수 있다.\n",
    "#     break; \n",
    "\n",
    "train = optimizer.minimize(cost)"
   ]
  },
  {
   "cell_type": "code",
   "execution_count": 75,
   "metadata": {},
   "outputs": [
    {
     "name": "stdout",
     "output_type": "stream",
     "text": [
      "Step :  0 Cost: 281.73148 W :  [1.4261694] b : [1.5482081]\n",
      "Step :  100 Cost: 1.4891258 W :  [7.5860624] b : [3.2140906]\n",
      "Step :  200 Cost: 0.9201884 W :  [7.888551] b : [2.5265837]\n",
      "Step :  300 Cost: 0.56862205 W :  [8.1263] b : [1.9861256]\n",
      "Step :  400 Cost: 0.35137355 W :  [8.313192] b : [1.5612756]\n",
      "Step :  500 Cost: 0.21712725 W :  [8.460106] b : [1.2273045]\n",
      "Step :  600 Cost: 0.13417172 W :  [8.575594] b : [0.9647746]\n",
      "Step :  700 Cost: 0.082910344 W :  [8.666377] b : [0.7584014]\n",
      "Step :  800 Cost: 0.05123371 W :  [8.737742] b : [0.5961734]\n",
      "Step :  900 Cost: 0.03165931 W :  [8.793841] b : [0.46864694]\n",
      "Step :  1000 Cost: 0.019563748 W :  [8.83794] b : [0.3684004]\n",
      "Step :  1100 Cost: 0.012088862 W :  [8.872607] b : [0.28959414]\n",
      "Step :  1200 Cost: 0.007470291 W :  [8.8998575] b : [0.22764722]\n",
      "Step :  1300 Cost: 0.00461626 W :  [8.921278] b : [0.17895187]\n",
      "Step :  1400 Cost: 0.0028525216 W :  [8.938118] b : [0.14067209]\n",
      "Step :  1500 Cost: 0.0017626513 W :  [8.951355] b : [0.11058132]\n",
      "Step :  1600 Cost: 0.0010892497 W :  [8.9617605] b : [0.08692804]\n",
      "Step :  1700 Cost: 0.0006731025 W :  [8.96994] b : [0.06833386]\n",
      "Step :  1800 Cost: 0.00041594278 W :  [8.97637] b : [0.05371705]\n",
      "Step :  1900 Cost: 0.00025704867 W :  [8.981423] b : [0.04222814]\n",
      "Step :  2000 Cost: 0.00015884737 W :  [8.985395] b : [0.03319676]\n",
      "Step :  2100 Cost: 9.819219e-05 W :  [8.988518] b : [0.02609869]\n",
      "Step :  2200 Cost: 6.069978e-05 W :  [8.9909725] b : [0.02051916]\n",
      "Step :  2300 Cost: 3.7524038e-05 W :  [8.992901] b : [0.01613348]\n",
      "Step :  2400 Cost: 2.320179e-05 W :  [8.994417] b : [0.01268681]\n",
      "Step :  2500 Cost: 1.43541065e-05 W :  [8.995608] b : [0.00997804]\n",
      "Step :  2600 Cost: 8.880943e-06 W :  [8.996547] b : [0.0078489]\n",
      "Step :  2700 Cost: 5.4980737e-06 W :  [8.997282] b : [0.00617493]\n",
      "Step :  2800 Cost: 3.4010193e-06 W :  [8.997862] b : [0.00485768]\n",
      "Step :  2900 Cost: 2.1073756e-06 W :  [8.998316] b : [0.00382255]\n",
      "Step :  3000 Cost: 1.3057497e-06 W :  [8.998675] b : [0.00300859]\n",
      "Step :  3100 Cost: 8.0947365e-07 W :  [8.998959] b : [0.00236958]\n",
      "Step :  3200 Cost: 5.0283296e-07 W :  [8.999175] b : [0.00186769]\n",
      "Step :  3300 Cost: 3.103405e-07 W :  [8.999355] b : [0.00146822]\n",
      "Step :  3400 Cost: 1.9332462e-07 W :  [8.99949] b : [0.00115604]\n",
      "Step :  3500 Cost: 1.2207481e-07 W :  [8.999593] b : [0.00091903]\n",
      "Step :  3600 Cost: 7.466982e-08 W :  [8.999685] b : [0.00072118]\n",
      "Step :  3700 Cost: 4.527495e-08 W :  [8.999755] b : [0.00056005]\n",
      "Step :  3800 Cost: 2.7704422e-08 W :  [8.999807] b : [0.00043852]\n",
      "Step :  3900 Cost: 1.736771e-08 W :  [8.999846] b : [0.00034677]\n",
      "Step :  4000 Cost: 1.11782965e-08 W :  [8.999876] b : [0.00027749]\n",
      "Step :  4100 Cost: 7.40935e-09 W :  [8.999899] b : [0.00022529]\n",
      "Step :  4200 Cost: 5.0761932e-09 W :  [8.999915] b : [0.00018592]\n",
      "Step :  4300 Cost: 3.5521832e-09 W :  [8.999928] b : [0.0001562]\n",
      "Step :  4400 Cost: 2.6863443e-09 W :  [8.999938] b : [0.0001337]\n",
      "Step :  4500 Cost: 2.0979012e-09 W :  [8.999946] b : [0.0001168]\n",
      "Step :  4600 Cost: 1.6373937e-09 W :  [8.99995] b : [0.00010421]\n",
      "Step :  4700 Cost: 1.4312415e-09 W :  [8.999955] b : [9.4333795e-05]\n",
      "Step :  4800 Cost: 1.1596057e-09 W :  [8.999958] b : [8.686322e-05]\n",
      "Step :  4900 Cost: 1.0732037e-09 W :  [8.99996] b : [8.190391e-05]\n"
     ]
    }
   ],
   "source": [
    "sess = tf.Session()\n",
    "sess.run(tf.global_variables_initializer()) #내가보고있는 그래프의 베리어블을 초기화한다\n",
    "\n",
    "for step in range(5000):\n",
    "    i,c,w,k = sess.run([train, cost, W, b], feed_dict = {X:[1,2,3], Y:[9,18,27]})\n",
    "    if step %100==0:\n",
    "        print('Step : ',step, 'Cost:',c,\n",
    "             'W : ', w,\n",
    "             'b :', k )"
   ]
  },
  {
   "cell_type": "code",
   "execution_count": null,
   "metadata": {},
   "outputs": [],
   "source": [
    "# 텐서플로에서 wx 라고해서 w를 먼저할순 없다 행렬곱 형태를 생각하면 됌\n",
    "#gpu는 매트릭스곱에 강함, 행렬연산에 강하다\n",
    "# 짧고, 빠르고, gpu 때문에 행렬곱으로 나타낸다"
   ]
  },
  {
   "cell_type": "code",
   "execution_count": null,
   "metadata": {},
   "outputs": [],
   "source": [
    "# W * X = ELEMENT WISE (각 원소들끼리 곱하는 방식)\n",
    "# MATMUL(X,W) # 무조건 X가 먼저와야한다"
   ]
  },
  {
   "cell_type": "code",
   "execution_count": null,
   "metadata": {},
   "outputs": [],
   "source": []
  },
  {
   "cell_type": "code",
   "execution_count": 77,
   "metadata": {},
   "outputs": [
    {
     "ename": "TypeError",
     "evalue": "unsupported operand type(s) for -: 'GradientDescentOptimizer' and 'GradientDescentOptimizer'",
     "output_type": "error",
     "traceback": [
      "\u001b[1;31m---------------------------------------------------------------------------\u001b[0m",
      "\u001b[1;31mTypeError\u001b[0m                                 Traceback (most recent call last)",
      "\u001b[1;32m<ipython-input-77-d273f5662dfb>\u001b[0m in \u001b[0;36m<module>\u001b[1;34m()\u001b[0m\n\u001b[0;32m     16\u001b[0m \u001b[0mhypythesis\u001b[0m \u001b[1;33m=\u001b[0m \u001b[0mx1\u001b[0m \u001b[1;33m*\u001b[0m \u001b[0mw1\u001b[0m \u001b[1;33m+\u001b[0m \u001b[0mx2\u001b[0m \u001b[1;33m*\u001b[0m \u001b[0mw2\u001b[0m \u001b[1;33m+\u001b[0m \u001b[0mx3\u001b[0m \u001b[1;33m*\u001b[0m \u001b[0mw3\u001b[0m \u001b[1;33m+\u001b[0m\u001b[0mb\u001b[0m \u001b[1;31m#나중에 길어지면 메트릭스 아니면 못씀\u001b[0m\u001b[1;33m\u001b[0m\u001b[0m\n\u001b[0;32m     17\u001b[0m \u001b[0mcost\u001b[0m \u001b[1;33m=\u001b[0m \u001b[0mtf\u001b[0m\u001b[1;33m.\u001b[0m\u001b[0mreduce_mean\u001b[0m\u001b[1;33m(\u001b[0m\u001b[0mtf\u001b[0m\u001b[1;33m.\u001b[0m\u001b[0msquare\u001b[0m\u001b[1;33m(\u001b[0m\u001b[0mhypothesis\u001b[0m\u001b[1;33m-\u001b[0m\u001b[0mY\u001b[0m\u001b[1;33m)\u001b[0m\u001b[1;33m)\u001b[0m\u001b[1;33m\u001b[0m\u001b[0m\n\u001b[1;32m---> 18\u001b[1;33m \u001b[0moptimizer\u001b[0m \u001b[1;33m-\u001b[0m \u001b[0mtf\u001b[0m\u001b[1;33m.\u001b[0m\u001b[0mtrain\u001b[0m\u001b[1;33m.\u001b[0m\u001b[0mGradientDescentOptimizer\u001b[0m\u001b[1;33m(\u001b[0m\u001b[0mlearning_rate\u001b[0m\u001b[1;33m=\u001b[0m\u001b[1;36m1e-5\u001b[0m\u001b[1;33m)\u001b[0m\u001b[1;33m\u001b[0m\u001b[0m\n\u001b[0m\u001b[0;32m     19\u001b[0m \u001b[0mtrain\u001b[0m \u001b[1;33m=\u001b[0m \u001b[0moptimizer\u001b[0m\u001b[1;33m.\u001b[0m\u001b[0mminimize\u001b[0m\u001b[1;33m(\u001b[0m\u001b[0mcost\u001b[0m\u001b[1;33m)\u001b[0m\u001b[1;33m\u001b[0m\u001b[0m\n",
      "\u001b[1;31mTypeError\u001b[0m: unsupported operand type(s) for -: 'GradientDescentOptimizer' and 'GradientDescentOptimizer'"
     ]
    }
   ],
   "source": [
    "x1_data = [10., 12., 15., 16., 85.]\n",
    "x2_data = [13., 19., 22., 84., 24.]\n",
    "x3_data = [15., 18., 244., 34., 64.]\n",
    "y_data = [152., 241., 214., 142.,899.]\n",
    "\n",
    "#데이터를 받는건 constant 랑 placeholder 일반적으로 placeholder 씀\n",
    "x1 = tf.placeholder(tf.float32)\n",
    "x2 = tf.placeholder(tf.float32)\n",
    "x3 = tf.placeholder(tf.float32)\n",
    "Y = tf.placeholder(tf.float32)\n",
    "\n",
    "w1 = tf.Variable(tf.random_normal([1]), name = 'weight1')\n",
    "w2 = tf.Variable(tf.random_normal([1]), name = 'weight2')\n",
    "w3 = tf.Variable(tf.random_normal([1]), name = 'weight3')\n",
    "b = w3 = tf.Variable(tf.random_normal([1]), name = 'bias')\n",
    "\n",
    "hypythesis = x1 * w1 + x2 * w2 + x3 * w3 +b #나중에 길어지면 메트릭스 아니면 못씀\n",
    "cost = tf.reduce_mean(tf.square(hypothesis-Y))\n",
    "optimizer - tf.train.GradientDescentOptimizer(learning_rate=1e-5)\n",
    "train = optimizer.minimize(cost)"
   ]
  },
  {
   "cell_type": "code",
   "execution_count": null,
   "metadata": {},
   "outputs": [],
   "source": [
    "sess = tf.Session()\n",
    "sess.run(tf.global_variables_initializer())\n",
    "\n",
    "for step in range(2000):\n",
    "    const_val, hy_val, _ = sess.run([cost, hypothesis, train],\n",
    "                                   feed_dict = {x1 :x_data, x2: x2_data, x3:x3_data, Y:y_data})\n",
    "    if step % 100 ==0:\n",
    "        print()"
   ]
  }
 ],
 "metadata": {
  "kernelspec": {
   "display_name": "Python 3",
   "language": "python",
   "name": "python3"
  },
  "language_info": {
   "codemirror_mode": {
    "name": "ipython",
    "version": 3
   },
   "file_extension": ".py",
   "mimetype": "text/x-python",
   "name": "python",
   "nbconvert_exporter": "python",
   "pygments_lexer": "ipython3",
   "version": "3.6.5"
  }
 },
 "nbformat": 4,
 "nbformat_minor": 2
}
