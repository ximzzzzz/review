{
 "cells": [
  {
   "cell_type": "code",
   "execution_count": 1,
   "metadata": {},
   "outputs": [
    {
     "name": "stderr",
     "output_type": "stream",
     "text": [
      "C:\\ProgramData\\Anaconda3\\lib\\site-packages\\h5py\\__init__.py:36: FutureWarning: Conversion of the second argument of issubdtype from `float` to `np.floating` is deprecated. In future, it will be treated as `np.float64 == np.dtype(float).type`.\n",
      "  from ._conv import register_converters as _register_converters\n"
     ]
    },
    {
     "name": "stdout",
     "output_type": "stream",
     "text": [
      "WARNING:tensorflow:From <ipython-input-1-3a476adc8167>:5: read_data_sets (from tensorflow.contrib.learn.python.learn.datasets.mnist) is deprecated and will be removed in a future version.\n",
      "Instructions for updating:\n",
      "Please use alternatives such as official/mnist/dataset.py from tensorflow/models.\n",
      "WARNING:tensorflow:From C:\\ProgramData\\Anaconda3\\lib\\site-packages\\tensorflow\\contrib\\learn\\python\\learn\\datasets\\mnist.py:260: maybe_download (from tensorflow.contrib.learn.python.learn.datasets.base) is deprecated and will be removed in a future version.\n",
      "Instructions for updating:\n",
      "Please write your own downloading logic.\n",
      "WARNING:tensorflow:From C:\\ProgramData\\Anaconda3\\lib\\site-packages\\tensorflow\\contrib\\learn\\python\\learn\\datasets\\mnist.py:262: extract_images (from tensorflow.contrib.learn.python.learn.datasets.mnist) is deprecated and will be removed in a future version.\n",
      "Instructions for updating:\n",
      "Please use tf.data to implement this functionality.\n",
      "Extracting MNIST_data\\train-images-idx3-ubyte.gz\n",
      "WARNING:tensorflow:From C:\\ProgramData\\Anaconda3\\lib\\site-packages\\tensorflow\\contrib\\learn\\python\\learn\\datasets\\mnist.py:267: extract_labels (from tensorflow.contrib.learn.python.learn.datasets.mnist) is deprecated and will be removed in a future version.\n",
      "Instructions for updating:\n",
      "Please use tf.data to implement this functionality.\n",
      "Extracting MNIST_data\\train-labels-idx1-ubyte.gz\n",
      "WARNING:tensorflow:From C:\\ProgramData\\Anaconda3\\lib\\site-packages\\tensorflow\\contrib\\learn\\python\\learn\\datasets\\mnist.py:110: dense_to_one_hot (from tensorflow.contrib.learn.python.learn.datasets.mnist) is deprecated and will be removed in a future version.\n",
      "Instructions for updating:\n",
      "Please use tf.one_hot on tensors.\n",
      "Extracting MNIST_data\\t10k-images-idx3-ubyte.gz\n",
      "Extracting MNIST_data\\t10k-labels-idx1-ubyte.gz\n",
      "WARNING:tensorflow:From C:\\ProgramData\\Anaconda3\\lib\\site-packages\\tensorflow\\contrib\\learn\\python\\learn\\datasets\\mnist.py:290: DataSet.__init__ (from tensorflow.contrib.learn.python.learn.datasets.mnist) is deprecated and will be removed in a future version.\n",
      "Instructions for updating:\n",
      "Please use alternatives such as official/mnist/dataset.py from tensorflow/models.\n"
     ]
    }
   ],
   "source": [
    "import numpy as np\n",
    "import tensorflow as tf\n",
    "import matplotlib.pyplot as plt\n",
    "from tensorflow.examples.tutorials.mnist import input_data\n",
    "mnist = input_data.read_data_sets('MNIST_data', one_hot=True)"
   ]
  },
  {
   "cell_type": "code",
   "execution_count": 2,
   "metadata": {},
   "outputs": [],
   "source": [
    "learning_rate = 0.001\n",
    "training_epoch= 15\n",
    "batch_size =100\n"
   ]
  },
  {
   "cell_type": "code",
   "execution_count": 3,
   "metadata": {},
   "outputs": [],
   "source": [
    "class Model:\n",
    "    def __init__(self, sess, name):\n",
    "        self.sess = sess\n",
    "        self.name = name\n",
    "        self._build_net()\n",
    "        \n",
    "    def _build_net(self):\n",
    "        with tf.variable_scope(self.name): #모델별 w 가 충돌하지말라고 scope(범위)를 지정해줌\n",
    "            self.training = tf.placeholder(tf.bool)\n",
    "            self.X = tf.placeholder(tf.float32, shape = [None, 784])\n",
    "            X_img = tf.reshape(self.X, [-1,28,28,1])\n",
    "            self.Y = tf.placeholder(tf.float32, shape = [None, 10])\n",
    "            \n",
    "            conv1 = tf.layers.conv2d(inputs = X_img, filters = 32, kernel_size=[3,3], padding='SAME',\n",
    "                                    activation = tf.nn.relu) \n",
    "            #tf 에 있는 컨볼루젼 모듈, relu까지 통과한 값을 리턴함\n",
    "            \n",
    "            pool1 = tf.layers.max_pooling2d(inputs = conv1, pool_size=[2,2],\n",
    "                                       padding = 'SAME', strides=2)\n",
    "            dropout1 = tf.layers.dropout(inputs=pool1, rate=0.7,\n",
    "                                        training=self.training) #true면 먹이고(0.7), false면 안맥임(1)\n",
    "            \n",
    "            \n",
    "            conv2 = tf.layers.conv2d(inputs =dropout1 , filters = 64, kernel_size=[3,3], padding='SAME',\n",
    "                                    activation = tf.nn.relu)  \n",
    "            pool2 = tf.layers.max_pooling2d(inputs = conv2, pool_size=[2,2],\n",
    "                                       padding = 'SAME', strides=2)\n",
    "            dropout2 = tf.layers.dropout(inputs=pool2, rate=0.7,\n",
    "                                        training=self.training) \n",
    "            \n",
    "            \n",
    "            conv3 = tf.layers.conv2d(inputs = dropout2, filters = 128, kernel_size=[3,3], padding='SAME',\n",
    "                                    activation = tf.nn.relu)   \n",
    "            pool3 = tf.layers.max_pooling2d(inputs = conv3, pool_size=[2,2],\n",
    "                                       padding = 'SAME', strides=2)\n",
    "            dropout3 = tf.layers.dropout(inputs=pool3, rate=0.7,\n",
    "                                        training=self.training) #트루면 먹이고 false면 안맥임\n",
    "            \n",
    "            flat = tf.reshape(dropout3, [-1,4*4*128])\n",
    "            dense4 = tf.layers.dense(inputs = flat, units = 625, activation=tf.nn.relu)\n",
    "            dropout4 = tf.layers.dropout(inputs=dense4,rate=0.5,\n",
    "                                        training=self.training)\n",
    "            \n",
    "            self.logits = tf.layers.dense(inputs = dropout4, units=10)\n",
    "        \n",
    "        self.cost= tf.reduce_mean(tf.nn.softmax_cross_entropy_with_logits(logits = self.logits, labels=self.Y))\n",
    "        self.optimizer= tf.train.AdamOptimizer(learning_rate=learning_rate).minimize(self.cost)\n",
    "\n",
    "        correct_prediction = tf.equal(tf.argmax(self.logits,1), tf.argmax(self.Y,1))\n",
    "        self.accuracy = tf.reduce_mean(tf.cast(correct_prediction, tf.float32))\n",
    "        \n",
    "        def predict(self, x_test, training=False):\n",
    "            return self.sess.run(self.logits, feed_dict={self.X:x_test,\n",
    "                                                     self.training:training})\n",
    "    \n",
    "    \n",
    "    def get_accuracy(self, x_test, y_test, training=False):\n",
    "        return self.sess.run(self.accuracy, feed_dict={self.X:x_test, self.Y:y_test, \n",
    "                                                       self.training:training})\n",
    "    \n",
    "    def train(self, x_data, y_data, training=True):\n",
    "        return self.sess.run([self.cost, self.optimizer], feed_dict={self.X:x_data,\n",
    "                                                                    self.Y:y_data,\n",
    "                                                                    self.training:training})\n",
    "    "
   ]
  },
  {
   "cell_type": "code",
   "execution_count": null,
   "metadata": {},
   "outputs": [
    {
     "name": "stdout",
     "output_type": "stream",
     "text": [
      "WARNING:tensorflow:From <ipython-input-3-617ce2c8ffaf>:46: softmax_cross_entropy_with_logits (from tensorflow.python.ops.nn_ops) is deprecated and will be removed in a future version.\n",
      "Instructions for updating:\n",
      "\n",
      "Future major versions of TensorFlow will allow gradients to flow\n",
      "into the labels input on backprop by default.\n",
      "\n",
      "See @{tf.nn.softmax_cross_entropy_with_logits_v2}.\n",
      "\n"
     ]
    }
   ],
   "source": [
    "sess = tf.Session()\n",
    "models =[]\n",
    "num_models = 7\n",
    "\n",
    "for m in range(num_models):\n",
    "    models.append(Model(sess, 'model'+str(m)))\n",
    "\n",
    "sess.run(tf.global_variables_initializer())\n",
    "\n",
    "for epoch in range(training_epoch):\n",
    "    avg_cost_list = np.zeros(len(models))\n",
    "    total_batch = int(mnist.train.num_examples /batch_size)\n",
    "    for i in range(total_batch):\n",
    "        batch_xs, batch_ys = mnist.train.next_batch(batch_size)\n",
    "        \n",
    "        for m_idx, m in enumerate(models):\n",
    "            c, _ = m.train(batch_xs, batch_ys)\n",
    "            avg_cost_list[m_idx]+= c/total_batch\n",
    "    print(\"Epoch : \",epoch, \"Cost : \", avg_cost_list)\n",
    "\n",
    "test_size = len(mnist.test.labels)\n",
    "predictions = np.zeros([test_size,10])\n",
    "\n",
    "for m_idx, m in enumerate(models):\n",
    "    p = m.predict(mnist.test.images)\n",
    "    predictions +=p\n",
    "\n",
    "ensemble_correct_prediction = tf.equal(tf.argmax(prediction,1), tf.argmax(mnist.test.labels,1))\n",
    "\n",
    "ensemble_accuracy = tf.reduce_mean(tf.cast(ensemble_correct_prediction, tf.float32))\n",
    "\n",
    "print(sess.run(ensemble_accuracy))"
   ]
  },
  {
   "cell_type": "code",
   "execution_count": null,
   "metadata": {},
   "outputs": [],
   "source": []
  },
  {
   "cell_type": "code",
   "execution_count": null,
   "metadata": {},
   "outputs": [],
   "source": []
  }
 ],
 "metadata": {
  "kernelspec": {
   "display_name": "Python 3",
   "language": "python",
   "name": "python3"
  },
  "language_info": {
   "codemirror_mode": {
    "name": "ipython",
    "version": 3
   },
   "file_extension": ".py",
   "mimetype": "text/x-python",
   "name": "python",
   "nbconvert_exporter": "python",
   "pygments_lexer": "ipython3",
   "version": "3.6.5"
  }
 },
 "nbformat": 4,
 "nbformat_minor": 2
}
